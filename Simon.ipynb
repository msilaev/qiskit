{
 "cells": [
  {
   "cell_type": "code",
   "execution_count": 1,
   "metadata": {},
   "outputs": [],
   "source": [
    "#!pip install qiskit\n",
    "import qiskit as qk\n",
    "from qiskit import IBMQ,Aer\n",
    "from qiskit import *\n",
    "from math import pi\n",
    "from qiskit.visualization import plot_bloch_vector\n",
    "from qiskit.visualization import plot_bloch_multivector\n",
    "\n",
    "from qiskit import QuantumCircuit, QuantumRegister, Aer, execute\n",
    "# import basic plot tools\n",
    "from qiskit.visualization import plot_histogram\n",
    "from qiskit_textbook.tools import simon_oracle\n",
    "from qiskit.providers.ibmq import least_busy"
   ]
  },
  {
   "cell_type": "code",
   "execution_count": 3,
   "metadata": {},
   "outputs": [
    {
     "data": {
      "image/png": "[encoded data removed]",
      "text/plain": [
       "<Figure size 742.777x325.08 with 1 Axes>"
      ]
     },
     "execution_count": 3,
     "metadata": {},
     "output_type": "execute_result"
    }
   ],
   "source": [
    "b = '11'\n",
    "n = len(b)\n",
    "simon_circuit_2 = QuantumCircuit(n*2, n)\n",
    "\n",
    "# Apply Hadamard gates before querying the oracle\n",
    "simon_circuit_2.h(range(n))\n",
    "\n",
    "# Query oracle\n",
    "simon_circuit_2 += simon_oracle(b)\n",
    "\n",
    "# Apply Hadamard gates to the input register\n",
    "simon_circuit_2.h(range(n))\n",
    "\n",
    "# Measure qubits\n",
    "simon_circuit_2.measure(range(n), range(n))\n",
    "simon_circuit_2.draw(output='mpl',justify='none')"
   ]
  },
  {
   "cell_type": "code",
   "execution_count": null,
   "metadata": {},
   "outputs": [
    {
     "name": "stderr",
     "output_type": "stream",
     "text": [
      "ibmqfactory.load_account:WARNING:2020-11-05 11:22:49,666: Credentials are already in use. The existing account in the session will be replaced.\n"
     ]
    },
    {
     "name": "stdout",
     "output_type": "stream",
     "text": [
      "least busy backend:  ibmq_valencia\n",
      "Job Status: job is queued (5)     "
     ]
    }
   ],
   "source": [
    "# Load our saved IBMQ accounts and get the least busy backend device with less than or equal to 5 qubits\n",
    "import Qconfig_IBMQ_experience\n",
    "IBMQ.save_account(Qconfig_IBMQ_experience.APItoken, overwrite=True)\n",
    "IBMQ.load_account()\n",
    "\n",
    "provider = IBMQ.get_provider(hub='ibm-q')\n",
    "backend = least_busy(provider.backends(filters=lambda x: x.configuration().n_qubits >= n and \n",
    "                                   not x.configuration().simulator and x.status().operational==True))\n",
    "print(\"least busy backend: \", backend)\n",
    "\n",
    "# Execute and monitor the job\n",
    "from qiskit.tools.monitor import job_monitor\n",
    "shots = 1024\n",
    "job = execute(simon_circuit_2, backend=backend, shots=shots, optimization_level=3)\n",
    "job_monitor(job, interval = 2)\n",
    "\n",
    "# Get results and plot counts\n",
    "device_counts = job.result().get_counts()\n",
    "plot_histogram(device_counts)"
   ]
  },
  {
   "cell_type": "code",
   "execution_count": null,
   "metadata": {},
   "outputs": [],
   "source": []
  }
 ],
 "metadata": {
  "kernelspec": {
   "display_name": "Python 3",
   "language": "python",
   "name": "python3"
  },
  "language_info": {
   "codemirror_mode": {
    "name": "ipython",
    "version": 3
   },
   "file_extension": ".py",
   "mimetype": "text/x-python",
   "name": "python",
   "nbconvert_exporter": "python",
   "pygments_lexer": "ipython3",
   "version": "3.8.3"
  }
 },
 "nbformat": 4,
 "nbformat_minor": 4
}
