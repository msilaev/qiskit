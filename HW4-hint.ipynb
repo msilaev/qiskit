{
 "cells": [
  {
   "cell_type": "markdown",
   "metadata": {},
   "source": [
    "### Homework 4 -hint for the Shor' algorithm"
   ]
  },
  {
   "cell_type": "markdown",
   "metadata": {},
   "source": [
    "<b> Problem 2: Shor' algorith in qiskit </b>\n",
    "\n",
    " Design the quantum circuit which can find periods for the modular exponent $a^x (mod N)$ with some small number $a$ and $N$, e.g. $a=3$, $N=10$ or $a=2$, $N=9$. Test the algorithm using qiskit.\n",
    " \n",
    " <br />\n",
    "\n",
    "  \n",
    "<b> Solution </b>\n",
    "We will use similar approach as in Qiskit tutorial https://qiskit.org/textbook/ch-algorithms/shor.html. \n",
    "The key components is the realization of modular exponent $a^x (mod N)$ using qunatum operators. \n"
   ]
  },
  {
   "cell_type": "code",
   "execution_count": 11,
   "metadata": {},
   "outputs": [],
   "source": [
    "import matplotlib.pyplot as plt\n",
    "import numpy as np\n",
    "from qiskit import QuantumCircuit, Aer, execute\n",
    "from qiskit.visualization import plot_histogram\n",
    "from math import gcd\n",
    "from numpy.random import randint\n",
    "import pandas as pd\n",
    "from fractions import Fraction\n",
    "import matplotlib.pyplot as plt \n"
   ]
  },
  {
   "cell_type": "markdown",
   "metadata": {},
   "source": [
    "Let's investigate the period $a^r mod N =1$ analytically"
   ]
  },
  {
   "cell_type": "code",
   "execution_count": 63,
   "metadata": {},
   "outputs": [
    {
     "name": "stdout",
     "output_type": "stream",
     "text": [
      "Could not find period, check a < N and have no common factors.\n"
     ]
    },
    {
     "data": {
      "image/png": "[encoded data removed]",
      "text/plain": [
       "<Figure size 432x288 with 1 Axes>"
      ]
     },
     "metadata": {
      "needs_background": "light"
     },
     "output_type": "display_data"
    }
   ],
   "source": [
    "N = 10\n",
    "a = 3\n",
    "\n",
    "# Calculate the plotting data\n",
    "xvals = np.arange(10)\n",
    "yvals = [np.mod(a**x, N) for x in xvals]\n",
    "\n",
    "# Use matplotlib to display it nicely\n",
    "fig, ax = plt.subplots()\n",
    "ax.plot(xvals, yvals, linewidth=1, linestyle='dotted', marker='x')\n",
    "ax.set(xlabel='$x$', ylabel='$%i^x$ mod $%i$' % (a, N),\n",
    "       title=\"Example of Periodic Function in Shor's Algorithm\")\n",
    "try: # plot r on the graph\n",
    "    r = yvals[1:].index(1) +1 \n",
    "    plt.annotate(text='', xy=(0,1), xytext=(r,1), arrowprops=dict(arrowstyle='<->'))\n",
    "    plt.annotate(text='$r=%i$' % r, xy=(r/3,1.5))\n",
    "except:\n",
    "    print('Could not find period, check a < N and have no common factors.')"
   ]
  },
  {
   "cell_type": "markdown",
   "metadata": {},
   "source": [
    "Inverse QFT from qiskit"
   ]
  },
  {
   "cell_type": "code",
   "execution_count": 26,
   "metadata": {},
   "outputs": [],
   "source": [
    "def qft_dagger(n):\n",
    "    \"\"\"n-qubit QFTdagger the first n qubits in circ\"\"\"\n",
    "    qc = QuantumCircuit(n)\n",
    "    # Don't forget the Swaps!\n",
    "    for qubit in range(n//2):\n",
    "        qc.swap(qubit, n-qubit-1)\n",
    "    for j in range(n):\n",
    "        for m in range(j):\n",
    "            qc.cu1(-np.pi/float(2**(j-m)), m, j)\n",
    "        qc.h(j)\n",
    "    qc.name = \"QFT†\"\n",
    "    return qc"
   ]
  },
  {
   "cell_type": "markdown",
   "metadata": {},
   "source": [
    "The realization of quantum modular multiplication $U_a |y\\rangle =  |ay mod N \\rangle $ for $y< N$ can be non-trivial in general. We will use the simplified approach based on the fact that the input state to which we apply operators  is $|1\\rangle$. Then using e.g. $a=3$ and $N=10$ and $2^5 =32$ in the quantum phase estimation algorithm we note that   $U_a^4 |1\\rangle =  |81 mod N \\rangle = |1 mod N \\rangle $ can be replaced by the identity operator. Next, $U_a^2 |1\\rangle= |9 mod N \\rangle = |1001 \\rangle$ applied to state $|1\\rangle$  acts $X_3$. \n",
    "Last, for the possible inputs $U_3 1 =3$ and $U_a 9 = |7\\rangle$. In binary representation $U_3 0001 = 0011 $,  $U_3 1001 = 0111 $. One can see that such transformation is the same as $Swap(2,1) X_1$. Note that in contrast to the original oparators for $U_a^k$  such reduced operators don't commute so that their order is important.   "
   ]
  },
  {
   "cell_type": "code",
   "execution_count": 40,
   "metadata": {},
   "outputs": [],
   "source": [
    "def U2():\n",
    "    \"\"\"Controlled multiplication by 9 mod 10\"\"\"\n",
    "    U = QuantumCircuit(4)   \n",
    "    U.x(3)\n",
    "    U = U.to_gate()\n",
    "    U.name = \"U2\" \n",
    "    c_U = U.control()\n",
    "    return c_U"
   ]
  },
  {
   "cell_type": "code",
   "execution_count": 41,
   "metadata": {},
   "outputs": [],
   "source": [
    "def U1():\n",
    "    \"\"\"Controlled multiplication by 9 mod 10\"\"\"\n",
    "    U = QuantumCircuit(4)   \n",
    "    U.x(1)\n",
    "    U.swap(3,2)\n",
    "    U = U.to_gate()\n",
    "    U.name = \"U1\" \n",
    "    c_U = U.control()\n",
    "    return c_U"
   ]
  },
  {
   "cell_type": "code",
   "execution_count": 65,
   "metadata": {},
   "outputs": [
    {
     "data": {
      "text/html": [
       "<pre style=\"word-wrap: normal;white-space: pre;background: #fff0;line-height: 1.1;font-family: &quot;Courier New&quot;,Courier,monospace\">     ┌───┐              ┌───────┐┌─┐      \n",
       "q_0: ┤ H ├──────────────┤0      ├┤M├──────\n",
       "     ├───┤              │       │└╥┘┌─┐   \n",
       "q_1: ┤ H ├───■──────────┤1 QFT† ├─╫─┤M├───\n",
       "     ├───┤   │          │       │ ║ └╥┘┌─┐\n",
       "q_2: ┤ H ├───┼──────■───┤2      ├─╫──╫─┤M├\n",
       "     └───┘┌─┴┼──┐┌─┴┼──┐└───────┘ ║  ║ └╥┘\n",
       "q_3: ─────┤0 │  ├┤0 │  ├──────────╫──╫──╫─\n",
       "          │     ││     │          ║  ║  ║ \n",
       "q_4: ─────┤1    ├┤1    ├──────────╫──╫──╫─\n",
       "          │  U2 ││  U1 │          ║  ║  ║ \n",
       "q_5: ─────┤2    ├┤2    ├──────────╫──╫──╫─\n",
       "     ┌───┐│     ││     │          ║  ║  ║ \n",
       "q_6: ┤ X ├┤3    ├┤3    ├──────────╫──╫──╫─\n",
       "     └───┘└─────┘└─────┘          ║  ║  ║ \n",
       "c: 3/═════════════════════════════╩══╩══╩═\n",
       "                                  0  1  2 </pre>"
      ],
      "text/plain": [
       "     ┌───┐              ┌───────┐┌─┐      \n",
       "q_0: ┤ H ├──────────────┤0      ├┤M├──────\n",
       "     ├───┤              │       │└╥┘┌─┐   \n",
       "q_1: ┤ H ├───■──────────┤1 QFT† ├─╫─┤M├───\n",
       "     ├───┤   │          │       │ ║ └╥┘┌─┐\n",
       "q_2: ┤ H ├───┼──────■───┤2      ├─╫──╫─┤M├\n",
       "     └───┘┌─┴┼──┐┌─┴┼──┐└───────┘ ║  ║ └╥┘\n",
       "q_3: ─────┤0 │  ├┤0 │  ├──────────╫──╫──╫─\n",
       "          │     ││     │          ║  ║  ║ \n",
       "q_4: ─────┤1    ├┤1    ├──────────╫──╫──╫─\n",
       "          │  U2 ││  U1 │          ║  ║  ║ \n",
       "q_5: ─────┤2    ├┤2    ├──────────╫──╫──╫─\n",
       "     ┌───┐│     ││     │          ║  ║  ║ \n",
       "q_6: ┤ X ├┤3    ├┤3    ├──────────╫──╫──╫─\n",
       "     └───┘└─────┘└─────┘          ║  ║  ║ \n",
       "c: 3/═════════════════════════════╩══╩══╩═\n",
       "                                  0  1  2 "
      ]
     },
     "execution_count": 65,
     "metadata": {},
     "output_type": "execute_result"
    }
   ],
   "source": [
    "# Create QuantumCircuit with n_count=3 counting qubits\n",
    "# plus 4 qubits for U to act on\n",
    "## Paste your code here (modify the qiskit textbook example accordingly) to get the following output"
   ]
  },
  {
   "cell_type": "code",
   "execution_count": 54,
   "metadata": {},
   "outputs": [
    {
     "data": {
      "image/png": "[encoded data removed]",
      "text/plain": [
       "<Figure size 504x360 with 1 Axes>"
      ]
     },
     "execution_count": 54,
     "metadata": {},
     "output_type": "execute_result"
    }
   ],
   "source": [
    "backend = Aer.get_backend('qasm_simulator')\n",
    "results = execute(qc, backend, shots=2048).result()\n",
    "counts = results.get_counts()\n",
    "plot_histogram(counts)"
   ]
  },
  {
   "cell_type": "markdown",
   "metadata": {},
   "source": [
    "Now, post-process these results using the code from qiskit tutorial for the calculation of $r$ using continous fraction expansion "
   ]
  },
  {
   "cell_type": "code",
   "execution_count": 55,
   "metadata": {},
   "outputs": [
    {
     "name": "stdout",
     "output_type": "stream",
     "text": [
      "     Register Output       Phase\n",
      "0  000(bin) = 0(dec)  0/8 = 0.00\n",
      "1  001(bin) = 1(dec)  1/8 = 0.12\n",
      "2  010(bin) = 2(dec)  2/8 = 0.25\n",
      "3  011(bin) = 3(dec)  3/8 = 0.38\n",
      "4  101(bin) = 5(dec)  5/8 = 0.62\n",
      "5  110(bin) = 6(dec)  6/8 = 0.75\n",
      "6  111(bin) = 7(dec)  7/8 = 0.88\n"
     ]
    }
   ],
   "source": [
    "rows, measured_phases = [], []\n",
    "for output in counts:\n",
    "    decimal = int(output, 2)  # Convert (base 2) string to decimal\n",
    "    phase = decimal/(2**n_count) # Find corresponding eigenvalue\n",
    "    measured_phases.append(phase)\n",
    "    # Add these values to the rows in our table:\n",
    "    rows.append([\"%s(bin) = %i(dec)\" % (output, decimal), \n",
    "                 \"%i/%i = %.2f\" % (decimal, 2**n_count, phase)])\n",
    "# Print the rows in a table\n",
    "headers=[\"Register Output\", \"Phase\"]\n",
    "df = pd.DataFrame(rows, columns=headers)\n",
    "print(df)"
   ]
  },
  {
   "cell_type": "code",
   "execution_count": 57,
   "metadata": {},
   "outputs": [
    {
     "name": "stdout",
     "output_type": "stream",
     "text": [
      "   Phase Fraction  Guess for r\n",
      "0  0.000      0/1            1\n",
      "1  0.125      1/8            8\n",
      "2  0.250      1/4            4\n",
      "3  0.375      3/8            8\n",
      "4  0.625      5/8            8\n",
      "5  0.750      3/4            4\n",
      "6  0.875      7/8            8\n"
     ]
    }
   ],
   "source": [
    "rows = []\n",
    "for phase in measured_phases:\n",
    "    frac = Fraction(phase).limit_denominator(15)\n",
    "    rows.append([phase, \"%i/%i\" % (frac.numerator, frac.denominator), frac.denominator])\n",
    "# Print as a table\n",
    "headers=[\"Phase\", \"Fraction\", \"Guess for r\"]\n",
    "df = pd.DataFrame(rows, columns=headers)\n",
    "print(df)"
   ]
  },
  {
   "cell_type": "markdown",
   "metadata": {},
   "source": [
    "Comparing with the above plot one can see that the procedure works. "
   ]
  },
  {
   "cell_type": "code",
   "execution_count": null,
   "metadata": {},
   "outputs": [],
   "source": []
  }
 ],
 "metadata": {
  "kernelspec": {
   "display_name": "Python 3",
   "language": "python",
   "name": "python3"
  },
  "language_info": {
   "codemirror_mode": {
    "name": "ipython",
    "version": 3
   },
   "file_extension": ".py",
   "mimetype": "text/x-python",
   "name": "python",
   "nbconvert_exporter": "python",
   "pygments_lexer": "ipython3",
   "version": "3.8.3"
  }
 },
 "nbformat": 4,
 "nbformat_minor": 4
}
