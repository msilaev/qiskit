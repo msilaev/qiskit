{
 "cells": [
  {
   "cell_type": "markdown",
   "metadata": {},
   "source": [
    "### Homework 3"
   ]
  },
  {
   "cell_type": "markdown",
   "metadata": {},
   "source": [
    "<b> Problem 1: Inversion around the mean or diffusor gate W </b>\n",
    " \n",
    "Remember that the Grover's search gate is $W \\equiv 2\\ket{\\psi}\\bra{\\psi}-\\mathcal{I}$, where $\\left(\\ket{\\psi} \\equiv \\sum_k \\frac{1}{\\sqrt{N}}\\ket{k}\\right)$ and $\\mathcal{I}$ is the identity operator. Show that applying this gate to a general state produces  \\[ W \\sum_{k=1}^{N} \\alpha_k \\ket{k} = \\sum_{k=1}^{N} \\left(\\frac{2\\sum_{i=1}^{N} \\alpha_i}{N}-\\alpha_k\\right) \\ket{k} \\].\n",
    "\n",
    "  <br />\n",
    "<br />\n",
    "  \n",
    "\n",
    "<b> Problem 2: Grover's search in qiskit </b>\n",
    "\n",
    "a) Run the Grover's search in qiskit for a 2-qubit state with $\\ket{00}$ as the target state (note that you have to think a bit about how to make the oracle). b) What happens if the oracle flags both $\\ket{00}$ and $\\ket{11}$? Simulation is enough, but it might be interesting to check how well the real qubit system does.\n",
    " \n",
    " <br />\n",
    "<br />"
   ]
  },
  {
   "cell_type": "markdown",
   "metadata": {},
   "source": [
    "<b> Problem 3: Probability of solving Simon' problem   </b>\n",
    "\n",
    "a) Estimate the probability of solving Simon problem for $3$ Qubits using $10$ calls of the oracle function on the real IBM quantum computer. The sample qiskit code preparing the oracle function can be found in Moodle or in the qiskit online textbook. \n",
    "The probabilities of observing each vector in the single measurement can be found from the statistics of results in e.g. standard 1024 number of shots. [4 points]\n",
    "\n",
    "b) Find how the probability of solving Simon problem for 3 Qubits depends on the number of oracle calls on the real IBM quantum computer. [4 points]\n",
    "\n",
    "\n",
    "<b> Solution </b>\n",
    "a) To find the probabilty of measuring different vectors we implement large number, e.g. $2000$ shots using the Simon oracle corresponding to the $3$-bit number,  e.g. $b=7$.  With that we find probabilities $P_y$ of measuring the computational basis state represented by integer numbers from $0<y<8$ independently. In order to determine the number $b$ using $N=10$ measurements we need to measure two of the three numbers $y = 110;\\; 011;\\; 101$. If we measure any other number other than these and $000$, it will give error. Let us denote the probability to measure one of these numbers as $P_{good} = P_{000} + P_{110}+ P_{011} + P_{101}$. The probability to measure good set of numbers is $P_{good}^N$. From this we should subtract the probibility $P_{0}^N$ and $P_{y}^N$ to measure the sets of the form $\\{0\\}^N$ and $\\{y\\}^N$ (with 3 possible $y\\neq 0$), \n",
    "$\\sum_y  C_N^k P_y^kP_0^{N-k} $ sets with $k$ identical $y\\neq 0$. Thus in total we get the probability to solve Simone problem using real quantum computer \n",
    "\n",
    "$P = P_{good}^N - P_{0}^N - \\sum_{k=0}^{N-1} \\sum_y  C_N^k P_y^kP_0^{N-k}$\n",
    "\n",
    "\n",
    "\n"
   ]
  },
  {
   "cell_type": "code",
   "execution_count": null,
   "metadata": {},
   "outputs": [],
   "source": [
    "import numpy as np\n",
    "import scipy.special\n",
    "import matplotlib.pyplot as plt "
   ]
  },
  {
   "cell_type": "markdown",
   "metadata": {},
   "source": [
    "Use the probabilitie defined from either simulator (see below)"
   ]
  },
  {
   "cell_type": "code",
   "execution_count": 25,
   "metadata": {},
   "outputs": [
    {
     "name": "stdout",
     "output_type": "stream",
     "text": [
      "{'000': 498, '011': 516, '101': 490, '110': 496}\n"
     ]
    }
   ],
   "source": [
    "print(device_counts)"
   ]
  },
  {
   "cell_type": "markdown",
   "metadata": {},
   "source": [
    "Use the probabilitie defined from  real device (see below)"
   ]
  },
  {
   "cell_type": "code",
   "execution_count": 38,
   "metadata": {},
   "outputs": [
    {
     "name": "stdout",
     "output_type": "stream",
     "text": [
      "{'000': 161, '001': 395, '010': 371, '011': 126, '100': 372, '101': 126, '110': 119, '111': 330}\n"
     ]
    }
   ],
   "source": [
    "print(device_counts)"
   ]
  },
  {
   "cell_type": "markdown",
   "metadata": {},
   "source": [
    "Find the probability of solving Simon problem in 10 measurment using simulator"
   ]
  },
  {
   "cell_type": "code",
   "execution_count": 45,
   "metadata": {},
   "outputs": [
    {
     "name": "stdout",
     "output_type": "stream",
     "text": [
      "0.9980339720779624\n",
      "1.7657870740243882e-06\n"
     ]
    }
   ],
   "source": [
    "ParReal = np.array([0.081, 0.063, 0.063, 0.059]);\n",
    "ParSim = np.array([498/2000, 516/2000, 490/2000, 496/2000]);\n",
    "\n",
    "PgoodSim= np.sum(ParSim);\n",
    "PgoodReal= np.sum(ParReal);\n",
    "\n",
    "\n",
    "N=10;\n",
    "PSim=np.power(PgoodSim,N)-np.power(ParSim[0],N);\n",
    "PReal=np.power(PgoodReal,N)-np.power(ParReal[0],N);\n",
    "for k in range(0, N-1):\n",
    "    for i in range(1, 3):\n",
    "            PSim=PSim- scipy.special.binom(N, k)*(np.power(ParSim[i],k)*np.power(ParSim[0],N-k));\n",
    "            PReal=PReal- scipy.special.binom(N, k)*(np.power(ParReal[i],k)*np.power(ParReal[0],N-k));\n",
    "print(PSim)\n",
    "print(PReal)\n",
    "\n",
    "\n"
   ]
  },
  {
   "cell_type": "markdown",
   "metadata": {},
   "source": [
    "One can see that on the real device the algorith does not work "
   ]
  },
  {
   "cell_type": "markdown",
   "metadata": {},
   "source": [
    "Find the probability of solving Simon problem as function of the number of measurments N"
   ]
  },
  {
   "cell_type": "code",
   "execution_count": 56,
   "metadata": {},
   "outputs": [],
   "source": [
    "\n",
    "PN1Sim=np.array([]);\n",
    "PN1Real=np.array([]);\n",
    "NN=np.array([]);\n",
    "#Par = np.array([0.25, 0.25, 0.25, 0.25]);\n",
    "Par = np.array([498/2000, 516/2000, 490/2000, 496/2000]);\n",
    "\n",
    "PgoodSim= np.sum(ParSim);\n",
    "PgoodReal= np.sum(ParReal);\n",
    "\n",
    "\n",
    "for N in range (2,100):\n",
    "    PSim=np.power(PgoodSim,N)-np.power(ParSim[0],N);\n",
    "    PReal=np.power(PgoodReal,N)-np.power(ParReal[0],N);\n",
    "    for k in range(0, N-1):\n",
    "        for i in range(1, 3):\n",
    "            PSim=PSim- scipy.special.binom(N, k)*(np.power(ParSim[i],k)*np.power(ParSim[0],N-k));\n",
    "            PReal=PReal- scipy.special.binom(N, k)*(np.power(ParReal[i],k)*np.power(ParReal[0],N-k));\n",
    "    PN1Sim = np.append (PN1Sim, PSim); \n",
    "    PN1Real = np.append (PN1Real, PReal); \n",
    "    NN = np.append (NN, N);\n"
   ]
  },
  {
   "cell_type": "code",
   "execution_count": 58,
   "metadata": {},
   "outputs": [
    {
     "data": {
      "text/plain": [
       "[<matplotlib.lines.Line2D at 0x25b443a5b80>,\n",
       " <matplotlib.lines.Line2D at 0x25b443a5c70>]"
      ]
     },
     "execution_count": 58,
     "metadata": {},
     "output_type": "execute_result"
    },
    {
     "data": {
      "image/png": "[encoded data removed]",
      "text/plain": [
       "<Figure size 432x288 with 1 Axes>"
      ]
     },
     "metadata": {
      "needs_background": "light"
     },
     "output_type": "display_data"
    }
   ],
   "source": [
    "plt.plot(NN,PN1Sim,PN1Real)"
   ]
  },
  {
   "cell_type": "markdown",
   "metadata": {},
   "source": [
    "One can see that with the real device the probability to solve Simon problem is always very small"
   ]
  },
  {
   "cell_type": "markdown",
   "metadata": {},
   "source": [
    "The probabiltites we have used above are found as follows"
   ]
  },
  {
   "cell_type": "code",
   "execution_count": null,
   "metadata": {},
   "outputs": [],
   "source": [
    "#!pip install qiskit\n",
    "import qiskit as qk\n",
    "from qiskit import IBMQ,Aer\n",
    "from qiskit import *\n",
    "from qiskit.visualization import plot_bloch_vector\n",
    "from qiskit.visualization import plot_bloch_multivector\n",
    "from qiskit.tools.visualization import plot_histogram\n",
    "\n",
    "from qiskit import QuantumRegister, ClassicalRegister, QuantumCircuit\n",
    "from numpy import pi\n",
    "\n",
    "from qiskit_textbook.tools import simon_oracle\n",
    "from qiskit.providers.ibmq import least_busy\n",
    "\n",
    "\n",
    "import Qconfig_IBMQ_experience\n",
    "IBMQ.save_account(Qconfig_IBMQ_experience.APItoken, overwrite=True)\n",
    "IBMQ.load_account()\n",
    "\n"
   ]
  },
  {
   "cell_type": "markdown",
   "metadata": {},
   "source": [
    "Define the circuit to apply the Simone oracle to the superposition of all computational basis states and measure results"
   ]
  },
  {
   "cell_type": "code",
   "execution_count": null,
   "metadata": {},
   "outputs": [],
   "source": [
    "b = '111'\n",
    "n = len(b)\n",
    "simon_circuit_2 = QuantumCircuit(n*2, n)\n",
    "\n",
    "# Apply Hadamard gates before querying the oracle\n",
    "simon_circuit_2.h(range(n))\n",
    "\n",
    "# Query oracle\n",
    "simon_circuit_2 += simon_oracle(b)\n",
    "\n",
    "# Apply Hadamard gates to the input register\n",
    "simon_circuit_2.h(range(n))\n",
    "\n",
    "# Measure qubits\n",
    "simon_circuit_2.measure(range(n), range(n))\n",
    "simon_circuit_2.draw(output='mpl',justify='none')"
   ]
  },
  {
   "cell_type": "code",
   "execution_count": 39,
   "metadata": {},
   "outputs": [
    {
     "data": {
      "image/png": "[encoded data removed]",
      "text/plain": [
       "<Figure size 504x360 with 1 Axes>"
      ]
     },
     "execution_count": 39,
     "metadata": {},
     "output_type": "execute_result"
    }
   ],
   "source": [
    "# Execute on the local simulator\n",
    "qasm_simulator = Aer.get_backend('qasm_simulator')\n",
    "shots = 2000\n",
    "job = execute(simon_circuit_2, backend=qasm_simulator, shots=shots, optimization_level=3)\n",
    "\n",
    "# Get results and plot counts\n",
    "device_counts = job.result().get_counts()\n",
    "plot_histogram(device_counts)"
   ]
  },
  {
   "cell_type": "markdown",
   "metadata": {},
   "source": [
    "Execute on real device (can take long)"
   ]
  },
  {
   "cell_type": "code",
   "execution_count": 37,
   "metadata": {},
   "outputs": [
    {
     "name": "stderr",
     "output_type": "stream",
     "text": [
      "ibmqfactory.load_account:WARNING:2020-11-26 19:21:59,103: Credentials are already in use. The existing account in the session will be replaced.\n"
     ]
    },
    {
     "name": "stdout",
     "output_type": "stream",
     "text": [
      "least busy backend:  ibmq_16_melbourne\n",
      "Job Status: job has successfully run\n"
     ]
    },
    {
     "data": {
      "image/png": "[encoded data removed]",
      "text/plain": [
       "<Figure size 504x360 with 1 Axes>"
      ]
     },
     "execution_count": 37,
     "metadata": {},
     "output_type": "execute_result"
    }
   ],
   "source": [
    "# Load our saved IBMQ accounts and get the least busy backend device with less than or equal to 5 qubits\n",
    "import Qconfig_IBMQ_experience\n",
    "IBMQ.save_account(Qconfig_IBMQ_experience.APItoken, overwrite=True)\n",
    "IBMQ.load_account()\n",
    "\n",
    "provider = IBMQ.get_provider(hub='ibm-q')\n",
    "backend = least_busy(provider.backends(filters=lambda x: x.configuration().n_qubits >= 6 and \n",
    "                                   not x.configuration().simulator and x.status().operational==True))\n",
    "print(\"least busy backend: \", backend)\n",
    "\n",
    "# Execute and monitor the job\n",
    "from qiskit.tools.monitor import job_monitor\n",
    "shots = 2000\n",
    "job = execute(simon_circuit_2, backend=backend, shots=shots, optimization_level=3)\n",
    "job_monitor(job, interval = 2)\n",
    "\n",
    "# Get results and plot counts\n",
    "device_counts = job.result().get_counts()\n",
    "plot_histogram(device_counts)"
   ]
  },
  {
   "cell_type": "code",
   "execution_count": 40,
   "metadata": {},
   "outputs": [
    {
     "name": "stderr",
     "output_type": "stream",
     "text": [
      "ibmqfactory.load_account:WARNING:2020-11-27 01:01:00,223: Credentials are already in use. The existing account in the session will be replaced.\n"
     ]
    },
    {
     "name": "stdout",
     "output_type": "stream",
     "text": [
      "least busy backend:  ibmq_16_melbourne\n",
      "Job Status: job has successfully run\n"
     ]
    },
    {
     "data": {
      "image/png": "[encoded data removed]",
      "text/plain": [
       "<Figure size 504x360 with 1 Axes>"
      ]
     },
     "execution_count": 40,
     "metadata": {},
     "output_type": "execute_result"
    }
   ],
   "source": [
    "# Load our saved IBMQ accounts and get the least busy backend device with less than or equal to 5 qubits\n",
    "import Qconfig_IBMQ_experience\n",
    "IBMQ.save_account(Qconfig_IBMQ_experience.APItoken, overwrite=True)\n",
    "IBMQ.load_account()\n",
    "\n",
    "provider = IBMQ.get_provider(hub='ibm-q')\n",
    "backend = least_busy(provider.backends(filters=lambda x: x.configuration().n_qubits >= 6 and \n",
    "                                   not x.configuration().simulator and x.status().operational==True))\n",
    "print(\"least busy backend: \", backend)\n",
    "\n",
    "# Execute and monitor the job\n",
    "from qiskit.tools.monitor import job_monitor\n",
    "shots = 2000\n",
    "job = execute(simon_circuit_2, backend=backend, shots=shots, optimization_level=3)\n",
    "job_monitor(job, interval = 2)\n",
    "\n",
    "# Get results and plot counts\n",
    "device_counts = job.result().get_counts()\n",
    "plot_histogram(device_counts)"
   ]
  },
  {
   "cell_type": "code",
   "execution_count": null,
   "metadata": {},
   "outputs": [],
   "source": []
  },
  {
   "cell_type": "code",
   "execution_count": null,
   "metadata": {},
   "outputs": [],
   "source": []
  },
  {
   "cell_type": "code",
   "execution_count": null,
   "metadata": {},
   "outputs": [],
   "source": []
  }
 ],
 "metadata": {
  "kernelspec": {
   "display_name": "Python 3",
   "language": "python",
   "name": "python3"
  }
 },
 "nbformat": 4,
 "nbformat_minor": 4
}
