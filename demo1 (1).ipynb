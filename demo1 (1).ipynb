{
 "cells": [
  {
   "cell_type": "code",
   "execution_count": 4,
   "metadata": {},
   "outputs": [
    {
     "data": {
      "text/html": [
       "<pre style=\"word-wrap: normal;white-space: pre;background: #fff0;line-height: 1.1;font-family: &quot;Courier New&quot;,Courier,monospace\">           ┌───┐                                                          »\n",
       "q_0: ──────┤ H ├────────────■─────────────────────────────────────────────»\n",
       "           ├───┤            │                                             »\n",
       "q_1: ──────┤ H ├────────────┼────────────■────────────■───────────────────»\n",
       "           ├───┤            │            │            │                   »\n",
       "q_2: ──────┤ H ├────────────┼────────────┼────────────┼────────────■──────»\n",
       "           ├───┤            │            │            │            │      »\n",
       "q_3: ──────┤ H ├────────────┼────────────┼────────────┼────────────┼──────»\n",
       "           ├───┤            │            │            │            │      »\n",
       "q_4: ──────┤ H ├────────────┼────────────┼────────────┼────────────┼──────»\n",
       "     ┌─────┴───┴─────┐┌─────┴─────┐┌─────┴─────┐┌─────┴─────┐┌─────┴─────┐»\n",
       "q_5: ┤ U(π,3.3995,0) ├┤ P(3.3995) ├┤ P(3.3995) ├┤ P(3.3995) ├┤ P(3.3995) ├»\n",
       "     └───────────────┘└───────────┘└───────────┘└───────────┘└───────────┘»\n",
       "c: 5/═════════════════════════════════════════════════════════════════════»\n",
       "                                                                          »\n",
       "«                                                                      »\n",
       "«q_0: ─────────────────────────────────────────────────────────────────»\n",
       "«                                                                      »\n",
       "«q_1: ─────────────────────────────────────────────────────────────────»\n",
       "«                                                                      »\n",
       "«q_2: ──────■────────────■────────────■────────────────────────────────»\n",
       "«           │            │            │                                »\n",
       "«q_3: ──────┼────────────┼────────────┼────────────■────────────■──────»\n",
       "«           │            │            │            │            │      »\n",
       "«q_4: ──────┼────────────┼────────────┼────────────┼────────────┼──────»\n",
       "«     ┌─────┴─────┐┌─────┴─────┐┌─────┴─────┐┌─────┴─────┐┌─────┴─────┐»\n",
       "«q_5: ┤ P(3.3995) ├┤ P(3.3995) ├┤ P(3.3995) ├┤ P(3.3995) ├┤ P(3.3995) ├»\n",
       "«     └───────────┘└───────────┘└───────────┘└───────────┘└───────────┘»\n",
       "«c: 5/═════════════════════════════════════════════════════════════════»\n",
       "«                                                                      »\n",
       "«                                                                      »\n",
       "«q_0: ─────────────────────────────────────────────────────────────────»\n",
       "«                                                                      »\n",
       "«q_1: ─────────────────────────────────────────────────────────────────»\n",
       "«                                                                      »\n",
       "«q_2: ─────────────────────────────────────────────────────────────────»\n",
       "«                                                                      »\n",
       "«q_3: ──────■────────────■────────────■────────────■────────────■──────»\n",
       "«           │            │            │            │            │      »\n",
       "«q_4: ──────┼────────────┼────────────┼────────────┼────────────┼──────»\n",
       "«     ┌─────┴─────┐┌─────┴─────┐┌─────┴─────┐┌─────┴─────┐┌─────┴─────┐»\n",
       "«q_5: ┤ P(3.3995) ├┤ P(3.3995) ├┤ P(3.3995) ├┤ P(3.3995) ├┤ P(3.3995) ├»\n",
       "«     └───────────┘└───────────┘└───────────┘└───────────┘└───────────┘»\n",
       "«c: 5/═════════════════════════════════════════════════════════════════»\n",
       "«                                                                      »\n",
       "«                                                                      »\n",
       "«q_0: ─────────────────────────────────────────────────────────────────»\n",
       "«                                                                      »\n",
       "«q_1: ───────────────────X─────────────────────────────────────────────»\n",
       "«                        │                                             »\n",
       "«q_2: ───────────────────┼─────────────────────────────────────────────»\n",
       "«                        │                                             »\n",
       "«q_3: ──────■────────────X─────────────────────────────────────────────»\n",
       "«           │                                                          »\n",
       "«q_4: ──────┼────────────■────────────■────────────■────────────■──────»\n",
       "«     ┌─────┴─────┐┌─────┴─────┐┌─────┴─────┐┌─────┴─────┐┌─────┴─────┐»\n",
       "«q_5: ┤ P(3.3995) ├┤ P(3.3995) ├┤ P(3.3995) ├┤ P(3.3995) ├┤ P(3.3995) ├»\n",
       "«     └───────────┘└───────────┘└───────────┘└───────────┘└───────────┘»\n",
       "«c: 5/═════════════════════════════════════════════════════════════════»\n",
       "«                                                                      »\n",
       "«                                                                      »\n",
       "«q_0: ─────────────────────────────────────────────────────────────────»\n",
       "«                                                                      »\n",
       "«q_1: ─────────────────────────────────────────────────────────────────»\n",
       "«                                                                      »\n",
       "«q_2: ─────────────────────────────────────────────────────────────────»\n",
       "«                                                                      »\n",
       "«q_3: ─────────────────────────────────────────────────────────────────»\n",
       "«                                                                      »\n",
       "«q_4: ──────■────────────■────────────■────────────■────────────■──────»\n",
       "«     ┌─────┴─────┐┌─────┴─────┐┌─────┴─────┐┌─────┴─────┐┌─────┴─────┐»\n",
       "«q_5: ┤ P(3.3995) ├┤ P(3.3995) ├┤ P(3.3995) ├┤ P(3.3995) ├┤ P(3.3995) ├»\n",
       "«     └───────────┘└───────────┘└───────────┘└───────────┘└───────────┘»\n",
       "«c: 5/═════════════════════════════════════════════════════════════════»\n",
       "«                                                                      »\n",
       "«                                                                      »\n",
       "«q_0: ─────────────────────────────────────────────────────────────────»\n",
       "«                                                                      »\n",
       "«q_1: ─────────────────────────────────────────────────────────────────»\n",
       "«                                                                      »\n",
       "«q_2: ─────────────────────────────────────────────────────────────────»\n",
       "«                                                                      »\n",
       "«q_3: ─────────────────────────────────────────────────────────────────»\n",
       "«                                                                      »\n",
       "«q_4: ──────■────────────■────────────■────────────■────────────■──────»\n",
       "«     ┌─────┴─────┐┌─────┴─────┐┌─────┴─────┐┌─────┴─────┐┌─────┴─────┐»\n",
       "«q_5: ┤ P(3.3995) ├┤ P(3.3995) ├┤ P(3.3995) ├┤ P(3.3995) ├┤ P(3.3995) ├»\n",
       "«     └───────────┘└───────────┘└───────────┘└───────────┘└───────────┘»\n",
       "«c: 5/═════════════════════════════════════════════════════════════════»\n",
       "«                                                                      »\n",
       "«                                  ┌───┐                                      »\n",
       "«q_0: ───────────────────────────X─┤ H ├─────■───────────────■────────────────»\n",
       "«                                │ └───┘┌────┴────┐┌───┐     │                »\n",
       "«q_1: ───────────────────────────┼──────┤ P(-π/2) ├┤ H ├─────┼──────────■─────»\n",
       "«                                │      └─────────┘└───┘┌────┴────┐┌────┴────┐»\n",
       "«q_2: ───────────────────────────┼──────────────────────┤ P(-π/4) ├┤ P(-π/2) ├»\n",
       "«                                │                      └─────────┘└─────────┘»\n",
       "«q_3: ───────────────────────────┼────────────────────────────────────────────»\n",
       "«                                │                                            »\n",
       "«q_4: ──────■────────────■───────X────────────────────────────────────────────»\n",
       "«     ┌─────┴─────┐┌─────┴─────┐                                              »\n",
       "«q_5: ┤ P(3.3995) ├┤ P(3.3995) ├──────────────────────────────────────────────»\n",
       "«     └───────────┘└───────────┘                                              »\n",
       "«c: 5/════════════════════════════════════════════════════════════════════════»\n",
       "«                                                                             »\n",
       "«                                                                       »\n",
       "«q_0: ─────■──────────────────────────■─────────────────────────────────»\n",
       "«          │                          │                                 »\n",
       "«q_1: ─────┼───────────────■──────────┼──────────────────────■──────────»\n",
       "«          │     ┌───┐     │          │                      │          »\n",
       "«q_2: ─────┼─────┤ H ├─────┼──────────┼───────────■──────────┼──────────»\n",
       "«     ┌────┴────┐└───┘┌────┴────┐     │      ┌────┴────┐     │     ┌───┐»\n",
       "«q_3: ┤ P(-π/8) ├─────┤ P(-π/4) ├─────┼──────┤ P(-π/2) ├─────┼─────┤ H ├»\n",
       "«     └─────────┘     └─────────┘┌────┴─────┐└─────────┘┌────┴────┐└───┘»\n",
       "«q_4: ───────────────────────────┤ P(-π/16) ├───────────┤ P(-π/8) ├─────»\n",
       "«                                └──────────┘           └─────────┘     »\n",
       "«q_5: ──────────────────────────────────────────────────────────────────»\n",
       "«                                                                       »\n",
       "«c: 5/══════════════════════════════════════════════════════════════════»\n",
       "«                                                                       »\n",
       "«                                 ░ ┌─┐            \n",
       "«q_0: ────────────────────────────░─┤M├────────────\n",
       "«                                 ░ └╥┘┌─┐         \n",
       "«q_1: ────────────────────────────░──╫─┤M├─────────\n",
       "«                                 ░  ║ └╥┘┌─┐      \n",
       "«q_2: ─────■──────────────────────░──╫──╫─┤M├──────\n",
       "«          │                      ░  ║  ║ └╥┘┌─┐   \n",
       "«q_3: ─────┼──────────■───────────░──╫──╫──╫─┤M├───\n",
       "«     ┌────┴────┐┌────┴────┐┌───┐ ░  ║  ║  ║ └╥┘┌─┐\n",
       "«q_4: ┤ P(-π/4) ├┤ P(-π/2) ├┤ H ├─░──╫──╫──╫──╫─┤M├\n",
       "«     └─────────┘└─────────┘└───┘ ░  ║  ║  ║  ║ └╥┘\n",
       "«q_5: ────────────────────────────░──╫──╫──╫──╫──╫─\n",
       "«                                 ░  ║  ║  ║  ║  ║ \n",
       "«c: 5/═══════════════════════════════╩══╩══╩══╩══╩═\n",
       "«                                    0  1  2  3  4 </pre>"
      ],
      "text/plain": [
       "           ┌───┐                                                          »\n",
       "q_0: ──────┤ H ├────────────■─────────────────────────────────────────────»\n",
       "           ├───┤            │                                             »\n",
       "q_1: ──────┤ H ├────────────┼────────────■────────────■───────────────────»\n",
       "           ├───┤            │            │            │                   »\n",
       "q_2: ──────┤ H ├────────────┼────────────┼────────────┼────────────■──────»\n",
       "           ├───┤            │            │            │            │      »\n",
       "q_3: ──────┤ H ├────────────┼────────────┼────────────┼────────────┼──────»\n",
       "           ├───┤            │            │            │            │      »\n",
       "q_4: ──────┤ H ├────────────┼────────────┼────────────┼────────────┼──────»\n",
       "     ┌─────┴───┴─────┐┌─────┴─────┐┌─────┴─────┐┌─────┴─────┐┌─────┴─────┐»\n",
       "q_5: ┤ U(π,3.3995,0) ├┤ P(3.3995) ├┤ P(3.3995) ├┤ P(3.3995) ├┤ P(3.3995) ├»\n",
       "     └───────────────┘└───────────┘└───────────┘└───────────┘└───────────┘»\n",
       "c: 5/═════════════════════════════════════════════════════════════════════»\n",
       "                                                                          »\n",
       "«                                                                      »\n",
       "«q_0: ─────────────────────────────────────────────────────────────────»\n",
       "«                                                                      »\n",
       "«q_1: ─────────────────────────────────────────────────────────────────»\n",
       "«                                                                      »\n",
       "«q_2: ──────■────────────■────────────■────────────────────────────────»\n",
       "«           │            │            │                                »\n",
       "«q_3: ──────┼────────────┼────────────┼────────────■────────────■──────»\n",
       "«           │            │            │            │            │      »\n",
       "«q_4: ──────┼────────────┼────────────┼────────────┼────────────┼──────»\n",
       "«     ┌─────┴─────┐┌─────┴─────┐┌─────┴─────┐┌─────┴─────┐┌─────┴─────┐»\n",
       "«q_5: ┤ P(3.3995) ├┤ P(3.3995) ├┤ P(3.3995) ├┤ P(3.3995) ├┤ P(3.3995) ├»\n",
       "«     └───────────┘└───────────┘└───────────┘└───────────┘└───────────┘»\n",
       "«c: 5/═════════════════════════════════════════════════════════════════»\n",
       "«                                                                      »\n",
       "«                                                                      »\n",
       "«q_0: ─────────────────────────────────────────────────────────────────»\n",
       "«                                                                      »\n",
       "«q_1: ─────────────────────────────────────────────────────────────────»\n",
       "«                                                                      »\n",
       "«q_2: ─────────────────────────────────────────────────────────────────»\n",
       "«                                                                      »\n",
       "«q_3: ──────■────────────■────────────■────────────■────────────■──────»\n",
       "«           │            │            │            │            │      »\n",
       "«q_4: ──────┼────────────┼────────────┼────────────┼────────────┼──────»\n",
       "«     ┌─────┴─────┐┌─────┴─────┐┌─────┴─────┐┌─────┴─────┐┌─────┴─────┐»\n",
       "«q_5: ┤ P(3.3995) ├┤ P(3.3995) ├┤ P(3.3995) ├┤ P(3.3995) ├┤ P(3.3995) ├»\n",
       "«     └───────────┘└───────────┘└───────────┘└───────────┘└───────────┘»\n",
       "«c: 5/═════════════════════════════════════════════════════════════════»\n",
       "«                                                                      »\n",
       "«                                                                      »\n",
       "«q_0: ─────────────────────────────────────────────────────────────────»\n",
       "«                                                                      »\n",
       "«q_1: ───────────────────X─────────────────────────────────────────────»\n",
       "«                        │                                             »\n",
       "«q_2: ───────────────────┼─────────────────────────────────────────────»\n",
       "«                        │                                             »\n",
       "«q_3: ──────■────────────X─────────────────────────────────────────────»\n",
       "«           │                                                          »\n",
       "«q_4: ──────┼────────────■────────────■────────────■────────────■──────»\n",
       "«     ┌─────┴─────┐┌─────┴─────┐┌─────┴─────┐┌─────┴─────┐┌─────┴─────┐»\n",
       "«q_5: ┤ P(3.3995) ├┤ P(3.3995) ├┤ P(3.3995) ├┤ P(3.3995) ├┤ P(3.3995) ├»\n",
       "«     └───────────┘└───────────┘└───────────┘└───────────┘└───────────┘»\n",
       "«c: 5/═════════════════════════════════════════════════════════════════»\n",
       "«                                                                      »\n",
       "«                                                                      »\n",
       "«q_0: ─────────────────────────────────────────────────────────────────»\n",
       "«                                                                      »\n",
       "«q_1: ─────────────────────────────────────────────────────────────────»\n",
       "«                                                                      »\n",
       "«q_2: ─────────────────────────────────────────────────────────────────»\n",
       "«                                                                      »\n",
       "«q_3: ─────────────────────────────────────────────────────────────────»\n",
       "«                                                                      »\n",
       "«q_4: ──────■────────────■────────────■────────────■────────────■──────»\n",
       "«     ┌─────┴─────┐┌─────┴─────┐┌─────┴─────┐┌─────┴─────┐┌─────┴─────┐»\n",
       "«q_5: ┤ P(3.3995) ├┤ P(3.3995) ├┤ P(3.3995) ├┤ P(3.3995) ├┤ P(3.3995) ├»\n",
       "«     └───────────┘└───────────┘└───────────┘└───────────┘└───────────┘»\n",
       "«c: 5/═════════════════════════════════════════════════════════════════»\n",
       "«                                                                      »\n",
       "«                                                                      »\n",
       "«q_0: ─────────────────────────────────────────────────────────────────»\n",
       "«                                                                      »\n",
       "«q_1: ─────────────────────────────────────────────────────────────────»\n",
       "«                                                                      »\n",
       "«q_2: ─────────────────────────────────────────────────────────────────»\n",
       "«                                                                      »\n",
       "«q_3: ─────────────────────────────────────────────────────────────────»\n",
       "«                                                                      »\n",
       "«q_4: ──────■────────────■────────────■────────────■────────────■──────»\n",
       "«     ┌─────┴─────┐┌─────┴─────┐┌─────┴─────┐┌─────┴─────┐┌─────┴─────┐»\n",
       "«q_5: ┤ P(3.3995) ├┤ P(3.3995) ├┤ P(3.3995) ├┤ P(3.3995) ├┤ P(3.3995) ├»\n",
       "«     └───────────┘└───────────┘└───────────┘└───────────┘└───────────┘»\n",
       "«c: 5/═════════════════════════════════════════════════════════════════»\n",
       "«                                                                      »\n",
       "«                                  ┌───┐                                      »\n",
       "«q_0: ───────────────────────────X─┤ H ├─────■───────────────■────────────────»\n",
       "«                                │ └───┘┌────┴────┐┌───┐     │                »\n",
       "«q_1: ───────────────────────────┼──────┤ P(-π/2) ├┤ H ├─────┼──────────■─────»\n",
       "«                                │      └─────────┘└───┘┌────┴────┐┌────┴────┐»\n",
       "«q_2: ───────────────────────────┼──────────────────────┤ P(-π/4) ├┤ P(-π/2) ├»\n",
       "«                                │                      └─────────┘└─────────┘»\n",
       "«q_3: ───────────────────────────┼────────────────────────────────────────────»\n",
       "«                                │                                            »\n",
       "«q_4: ──────■────────────■───────X────────────────────────────────────────────»\n",
       "«     ┌─────┴─────┐┌─────┴─────┐                                              »\n",
       "«q_5: ┤ P(3.3995) ├┤ P(3.3995) ├──────────────────────────────────────────────»\n",
       "«     └───────────┘└───────────┘                                              »\n",
       "«c: 5/════════════════════════════════════════════════════════════════════════»\n",
       "«                                                                             »\n",
       "«                                                                       »\n",
       "«q_0: ─────■──────────────────────────■─────────────────────────────────»\n",
       "«          │                          │                                 »\n",
       "«q_1: ─────┼───────────────■──────────┼──────────────────────■──────────»\n",
       "«          │     ┌───┐     │          │                      │          »\n",
       "«q_2: ─────┼─────┤ H ├─────┼──────────┼───────────■──────────┼──────────»\n",
       "«     ┌────┴────┐└───┘┌────┴────┐     │      ┌────┴────┐     │     ┌───┐»\n",
       "«q_3: ┤ P(-π/8) ├─────┤ P(-π/4) ├─────┼──────┤ P(-π/2) ├─────┼─────┤ H ├»\n",
       "«     └─────────┘     └─────────┘┌────┴─────┐└─────────┘┌────┴────┐└───┘»\n",
       "«q_4: ───────────────────────────┤ P(-π/16) ├───────────┤ P(-π/8) ├─────»\n",
       "«                                └──────────┘           └─────────┘     »\n",
       "«q_5: ──────────────────────────────────────────────────────────────────»\n",
       "«                                                                       »\n",
       "«c: 5/══════════════════════════════════════════════════════════════════»\n",
       "«                                                                       »\n",
       "«                                 ░ ┌─┐            \n",
       "«q_0: ────────────────────────────░─┤M├────────────\n",
       "«                                 ░ └╥┘┌─┐         \n",
       "«q_1: ────────────────────────────░──╫─┤M├─────────\n",
       "«                                 ░  ║ └╥┘┌─┐      \n",
       "«q_2: ─────■──────────────────────░──╫──╫─┤M├──────\n",
       "«          │                      ░  ║  ║ └╥┘┌─┐   \n",
       "«q_3: ─────┼──────────■───────────░──╫──╫──╫─┤M├───\n",
       "«     ┌────┴────┐┌────┴────┐┌───┐ ░  ║  ║  ║ └╥┘┌─┐\n",
       "«q_4: ┤ P(-π/4) ├┤ P(-π/2) ├┤ H ├─░──╫──╫──╫──╫─┤M├\n",
       "«     └─────────┘└─────────┘└───┘ ░  ║  ║  ║  ║ └╥┘\n",
       "«q_5: ────────────────────────────░──╫──╫──╫──╫──╫─\n",
       "«                                 ░  ║  ║  ║  ║  ║ \n",
       "«c: 5/═══════════════════════════════╩══╩══╩══╩══╩═\n",
       "«                                    0  1  2  3  4 "
      ]
     },
     "metadata": {},
     "output_type": "display_data"
    },
    {
     "data": {
      "image/png": "[encoded data removed]",
      "text/plain": [
       "<matplotlib.figure.Figure at 0x7fbad28750f0>"
      ]
     },
     "metadata": {},
     "output_type": "display_data"
    },
    {
     "name": "stdout",
     "output_type": "stream",
     "text": [
      "Measured phi = 30.438382859375 degrees (Actual input phi: 31 degrees)\n"
     ]
    }
   ],
   "source": [
    "# Exercise 1, problem 1: Measure relative phase phi.\n",
    "import matplotlib.pyplot as plt\n",
    "import numpy as np\n",
    "import math\n",
    "from qiskit import IBMQ, Aer\n",
    "from qiskit import QuantumCircuit, ClassicalRegister, QuantumRegister, execute\n",
    "from qiskit.visualization import plot_histogram\n",
    "\n",
    "#input fii in degrees\n",
    "phi = 31\n",
    "theta = math.pi\n",
    "lamda = 0\n",
    "\n",
    "#resolution and presicion\n",
    "qubs=5\n",
    "shots = 4096\n",
    "\n",
    "# Create and set up circuit\n",
    "qpe3 = QuantumCircuit(qubs+1, qubs)\n",
    "\n",
    "# Apply H-Gates to counting qubits:\n",
    "for qubit in range(qubs):\n",
    "    qpe3.h(qubit)\n",
    "    \n",
    "# Prepare input state    \n",
    "angle = (2*math.pi)*(phi/57.2957795)\n",
    "qpe3.u(theta,angle,0,qubs)\n",
    "\n",
    "# Controlled-U operations:\n",
    "repetitions = 1\n",
    "for counting_qubit in range(qubs):\n",
    "    for i in range(repetitions):\n",
    "        qpe3.cp(angle, counting_qubit, qubs);\n",
    "    repetitions *= 2\n",
    "\n",
    "# Inverse QFT:\n",
    "for qubit in range(qubs//2):\n",
    "    qpe3.swap(qubit, qubs-qubit-1)\n",
    "for j in range(qubs):\n",
    "    for m in range(j):\n",
    "        qpe3.cp(-math.pi/float(2**(j-m)), m, j)\n",
    "    qpe3.h(j)\n",
    "\n",
    "# Measure relative phase\n",
    "qpe3.barrier()\n",
    "for n in range(qubs):\n",
    "    qpe3.measure(n,n) \n",
    "\n",
    "# Execute circuit   \n",
    "answer = execute(qpe3, backend=Aer.get_backend('qasm_simulator'), shots=shots).result().get_counts()\n",
    "measured_str = max(answer, key=answer.get)\n",
    "measured_int = int(measured_str,2)\n",
    "\n",
    "# Display results\n",
    "display(qpe3.draw())\n",
    "display(plot_histogram(answer))\n",
    "print(\"Measured phi =\", (measured_int/(2**qubs))*57.2957795,\"degrees\",\"(Actual input phi:\",phi,\"degrees)\")\n"
   ]
  },
  {
   "cell_type": "code",
   "execution_count": 5,
   "metadata": {},
   "outputs": [
    {
     "name": "stderr",
     "output_type": "stream",
     "text": [
      "/usr/local/lib/python3.6/dist-packages/ipykernel_launcher.py:22: DeprecationWarning: The QuantumCircuit.u3 method is deprecated as of 0.16.0. It will be removed no earlier than 3 months after the release date. You should use QuantumCircuit.u instead, which acts identically. Alternatively, you can decompose u3 in terms of QuantumCircuit.p and QuantumCircuit.sx: u3(ϴ,φ,λ) = p(φ+π) sx p(ϴ+π) sx p(λ) (2 pulses on hardware).\n"
     ]
    },
    {
     "data": {
      "text/html": [
       "<pre style=\"word-wrap: normal;white-space: pre;background: #fff0;line-height: 1.1;font-family: &quot;Courier New&quot;,Courier,monospace\">     ┌───┐┌─────────┐┌───┐┌───┐┌─────────┐\n",
       "q_0: ┤ H ├┤ RZ(π/3) ├┤ H ├┤ S ├┤ RZ(π/3) ├\n",
       "     └───┘└─────────┘└───┘└───┘└─────────┘</pre>"
      ],
      "text/plain": [
       "     ┌───┐┌─────────┐┌───┐┌───┐┌─────────┐\n",
       "q_0: ┤ H ├┤ RZ(π/3) ├┤ H ├┤ S ├┤ RZ(π/3) ├\n",
       "     └───┘└─────────┘└───┘└───┘└─────────┘"
      ]
     },
     "metadata": {},
     "output_type": "display_data"
    },
    {
     "data": {
      "image/png": "[encoded data removed]",
      "text/plain": [
       "<matplotlib.figure.Figure at 0x7fbb419095f8>"
      ]
     },
     "metadata": {},
     "output_type": "display_data"
    },
    {
     "data": {
      "text/html": [
       "<pre style=\"word-wrap: normal;white-space: pre;background: #fff0;line-height: 1.1;font-family: &quot;Courier New&quot;,Courier,monospace\">     ┌───────────────┐\n",
       "q_0: ┤ U3(π/3,π/3,0) ├\n",
       "     └───────────────┘</pre>"
      ],
      "text/plain": [
       "     ┌───────────────┐\n",
       "q_0: ┤ U3(π/3,π/3,0) ├\n",
       "     └───────────────┘"
      ]
     },
     "metadata": {},
     "output_type": "display_data"
    },
    {
     "data": {
      "image/png": "[encoded data removed]",
      "text/plain": [
       "<matplotlib.figure.Figure at 0x7fbb407f34e0>"
      ]
     },
     "metadata": {},
     "output_type": "display_data"
    }
   ],
   "source": [
    "# Exercise 1, problem 2: Implement U3 with X,S,H and Rz.\n",
    "from qiskit import *\n",
    "import math\n",
    "from math import pi\n",
    "from qiskit.visualization import plot_bloch_multivector\n",
    "\n",
    "# Coefficients\n",
    "theta = math.pi/3\n",
    "phi = math.pi/3\n",
    "lamda = 0\n",
    "\n",
    "# Own U3 implementation\n",
    "qc = QuantumCircuit(1)\n",
    "qc.h(0)\n",
    "qc.rz(theta,0)\n",
    "qc.h(0)\n",
    "qc.s(0)\n",
    "qc.rz(phi,0)\n",
    "\n",
    "# IBMQ U3\n",
    "qc2 = QuantumCircuit(1)\n",
    "qc2.u3(theta,phi,lamda,0)\n",
    "\n",
    "# Execute circuits\n",
    "backend = Aer.get_backend('statevector_simulator')\n",
    "out = execute(qc,backend).result().get_statevector()\n",
    "out2 = execute(qc2,backend).result().get_statevector()\n",
    "\n",
    "# Display own U3\n",
    "display(qc.draw())\n",
    "display(plot_bloch_multivector(out))\n",
    "\n",
    "# Display built in U3\n",
    "display(qc2.draw())\n",
    "display(plot_bloch_multivector(out2))"
   ]
  },
  {
   "cell_type": "code",
   "execution_count": 6,
   "metadata": {},
   "outputs": [
    {
     "data": {
      "text/latex": [
       "$\\displaystyle H = \\left[\\begin{matrix}\\frac{\\sqrt{2}}{2} & \\frac{\\sqrt{2}}{2}\\\\\\frac{\\sqrt{2}}{2} & - \\frac{\\sqrt{2}}{2}\\end{matrix}\\right]$"
      ],
      "text/plain": [
       "    ⎡√2   √2 ⎤\n",
       "    ⎢──   ── ⎥\n",
       "    ⎢2    2  ⎥\n",
       "H = ⎢        ⎥\n",
       "    ⎢√2  -√2 ⎥\n",
       "    ⎢──  ────⎥\n",
       "    ⎣2    2  ⎦"
      ]
     },
     "metadata": {},
     "output_type": "display_data"
    },
    {
     "data": {
      "text/latex": [
       "$\\displaystyle X = \\left[\\begin{matrix}0 & 1\\\\1 & 0\\end{matrix}\\right]$"
      ],
      "text/plain": [
       "    ⎡0  1⎤\n",
       "X = ⎢    ⎥\n",
       "    ⎣1  0⎦"
      ]
     },
     "metadata": {},
     "output_type": "display_data"
    },
    {
     "data": {
      "text/latex": [
       "$\\displaystyle Z = \\left[\\begin{matrix}1 & 0\\\\0 & -1\\end{matrix}\\right]$"
      ],
      "text/plain": [
       "    ⎡1  0 ⎤\n",
       "Z = ⎢     ⎥\n",
       "    ⎣0  -1⎦"
      ]
     },
     "metadata": {},
     "output_type": "display_data"
    },
    {
     "data": {
      "text/latex": [
       "$\\displaystyle P_{0} = \\left[\\begin{matrix}1 & 0\\\\0 & 0\\end{matrix}\\right]$"
      ],
      "text/plain": [
       "     ⎡1  0⎤\n",
       "P₀ = ⎢    ⎥\n",
       "     ⎣0  0⎦"
      ]
     },
     "metadata": {},
     "output_type": "display_data"
    },
    {
     "data": {
      "text/latex": [
       "$\\displaystyle P_{1} = \\left[\\begin{matrix}0 & 0\\\\0 & 1\\end{matrix}\\right]$"
      ],
      "text/plain": [
       "     ⎡0  0⎤\n",
       "P₁ = ⎢    ⎥\n",
       "     ⎣0  1⎦"
      ]
     },
     "metadata": {},
     "output_type": "display_data"
    },
    {
     "data": {
      "text/latex": [
       "$\\displaystyle I = \\left[\\begin{matrix}1 & 0\\\\0 & 1\\end{matrix}\\right]$"
      ],
      "text/plain": [
       "    ⎡1  0⎤\n",
       "I = ⎢    ⎥\n",
       "    ⎣0  1⎦"
      ]
     },
     "metadata": {},
     "output_type": "display_data"
    },
    {
     "data": {
      "text/latex": [
       "$\\displaystyle U_{1} = \\left[\\begin{matrix}1 & 0\\\\0 & e^{i \\lambda}\\end{matrix}\\right]$"
      ],
      "text/plain": [
       "     ⎡1   0  ⎤\n",
       "     ⎢       ⎥\n",
       "U₁ = ⎢    ⅈ⋅λ⎥\n",
       "     ⎣0  ℯ   ⎦"
      ]
     },
     "metadata": {},
     "output_type": "display_data"
    },
    {
     "data": {
      "text/latex": [
       "$\\displaystyle e^{ia} = \\left[\\begin{matrix}e^{i \\lambda} & 0\\\\0 & e^{i \\lambda}\\end{matrix}\\right]$"
      ],
      "text/plain": [
       "        ⎡ ⅈ⋅λ      ⎤\n",
       "        ⎢ℯ      0  ⎥\n",
       "e__ia = ⎢          ⎥\n",
       "        ⎢       ⅈ⋅λ⎥\n",
       "        ⎣ 0    ℯ   ⎦"
      ]
     },
     "metadata": {},
     "output_type": "display_data"
    },
    {
     "name": "stdout",
     "output_type": "stream",
     "text": [
      "1)\n"
     ]
    },
    {
     "data": {
      "image/png": "[encoded data removed]",
      "text/latex": [
       "$\\displaystyle H X H = Z$"
      ],
      "text/plain": [
       "H⋅X⋅H = Z"
      ]
     },
     "metadata": {},
     "output_type": "display_data"
    },
    {
     "data": {
      "text/latex": [
       "$\\displaystyle \\left[\\begin{matrix}\\frac{\\sqrt{2}}{2} & \\frac{\\sqrt{2}}{2}\\\\\\frac{\\sqrt{2}}{2} & - \\frac{\\sqrt{2}}{2}\\end{matrix}\\right] \\left[\\begin{matrix}0 & 1\\\\1 & 0\\end{matrix}\\right] \\left[\\begin{matrix}\\frac{\\sqrt{2}}{2} & \\frac{\\sqrt{2}}{2}\\\\\\frac{\\sqrt{2}}{2} & - \\frac{\\sqrt{2}}{2}\\end{matrix}\\right] = \\left[\\begin{matrix}1 & 0\\\\0 & -1\\end{matrix}\\right]$"
      ],
      "text/plain": [
       "⎡√2   √2 ⎤        ⎡√2   √2 ⎤          \n",
       "⎢──   ── ⎥        ⎢──   ── ⎥          \n",
       "⎢2    2  ⎥ ⎡0  1⎤ ⎢2    2  ⎥   ⎡1  0 ⎤\n",
       "⎢        ⎥⋅⎢    ⎥⋅⎢        ⎥ = ⎢     ⎥\n",
       "⎢√2  -√2 ⎥ ⎣1  0⎦ ⎢√2  -√2 ⎥   ⎣0  -1⎦\n",
       "⎢──  ────⎥        ⎢──  ────⎥          \n",
       "⎣2    2  ⎦        ⎣2    2  ⎦          "
      ]
     },
     "metadata": {},
     "output_type": "display_data"
    },
    {
     "data": {
      "text/latex": [
       "$\\displaystyle \\text{True}$"
      ],
      "text/plain": [
       "True"
      ]
     },
     "metadata": {},
     "output_type": "display_data"
    },
    {
     "name": "stdout",
     "output_type": "stream",
     "text": [
      "2)\n"
     ]
    },
    {
     "data": {
      "image/png": "[encoded data removed]",
      "text/latex": [
       "$\\displaystyle {P_{0}}\\otimes {I} + {P_{1}}\\otimes {Z} = {I}\\otimes {P_{0}} + {Z}\\otimes {P_{1}}$"
      ],
      "text/plain": [
       "P₀⨂ I + P₁⨂ Z = I⨂ P₀ + Z⨂ P₁"
      ]
     },
     "metadata": {},
     "output_type": "display_data"
    },
    {
     "data": {
      "text/latex": [
       "$\\displaystyle \\left[\\begin{matrix}0 & 0 & 0 & 0\\\\0 & 0 & 0 & 0\\\\0 & 0 & 1 & 0\\\\0 & 0 & 0 & -1\\end{matrix}\\right] + \\left[\\begin{matrix}1 & 0 & 0 & 0\\\\0 & 1 & 0 & 0\\\\0 & 0 & 0 & 0\\\\0 & 0 & 0 & 0\\end{matrix}\\right] = \\left[\\begin{matrix}0 & 0 & 0 & 0\\\\0 & 1 & 0 & 0\\\\0 & 0 & 0 & 0\\\\0 & 0 & 0 & -1\\end{matrix}\\right] + \\left[\\begin{matrix}1 & 0 & 0 & 0\\\\0 & 0 & 0 & 0\\\\0 & 0 & 1 & 0\\\\0 & 0 & 0 & 0\\end{matrix}\\right]$"
      ],
      "text/plain": [
       "⎡1  0  0  0⎤   ⎡0  0  0  0 ⎤   ⎡1  0  0  0⎤   ⎡0  0  0  0 ⎤\n",
       "⎢          ⎥   ⎢           ⎥   ⎢          ⎥   ⎢           ⎥\n",
       "⎢0  1  0  0⎥   ⎢0  0  0  0 ⎥   ⎢0  0  0  0⎥   ⎢0  1  0  0 ⎥\n",
       "⎢          ⎥ + ⎢           ⎥ = ⎢          ⎥ + ⎢           ⎥\n",
       "⎢0  0  0  0⎥   ⎢0  0  1  0 ⎥   ⎢0  0  1  0⎥   ⎢0  0  0  0 ⎥\n",
       "⎢          ⎥   ⎢           ⎥   ⎢          ⎥   ⎢           ⎥\n",
       "⎣0  0  0  0⎦   ⎣0  0  0  -1⎦   ⎣0  0  0  0⎦   ⎣0  0  0  -1⎦"
      ]
     },
     "metadata": {},
     "output_type": "display_data"
    },
    {
     "data": {
      "text/latex": [
       "$\\displaystyle \\text{True}$"
      ],
      "text/plain": [
       "True"
      ]
     },
     "metadata": {},
     "output_type": "display_data"
    },
    {
     "name": "stdout",
     "output_type": "stream",
     "text": [
      "3)\n"
     ]
    },
    {
     "data": {
      "image/png": "[encoded data removed]",
      "text/latex": [
       "$\\displaystyle {H}\\otimes {H} \\left({P_{0}}\\otimes {I} + {P_{1}}\\otimes {X}\\right) {H}\\otimes {H} = {I}\\otimes {P_{0}} + {X}\\otimes {P_{1}}$"
      ],
      "text/plain": [
       "H⨂ H⋅(P₀⨂ I + P₁⨂ X)⋅H⨂ H = I⨂ P₀ + X⨂ P₁"
      ]
     },
     "metadata": {},
     "output_type": "display_data"
    },
    {
     "data": {
      "text/latex": [
       "$\\displaystyle \\left[\\begin{matrix}\\frac{1}{2} & \\frac{1}{2} & \\frac{1}{2} & \\frac{1}{2}\\\\\\frac{1}{2} & - \\frac{1}{2} & \\frac{1}{2} & - \\frac{1}{2}\\\\\\frac{1}{2} & \\frac{1}{2} & - \\frac{1}{2} & - \\frac{1}{2}\\\\\\frac{1}{2} & - \\frac{1}{2} & - \\frac{1}{2} & \\frac{1}{2}\\end{matrix}\\right] \\left(\\left[\\begin{matrix}0 & 0 & 0 & 0\\\\0 & 0 & 0 & 0\\\\0 & 0 & 0 & 1\\\\0 & 0 & 1 & 0\\end{matrix}\\right] + \\left[\\begin{matrix}1 & 0 & 0 & 0\\\\0 & 1 & 0 & 0\\\\0 & 0 & 0 & 0\\\\0 & 0 & 0 & 0\\end{matrix}\\right]\\right) \\left[\\begin{matrix}\\frac{1}{2} & \\frac{1}{2} & \\frac{1}{2} & \\frac{1}{2}\\\\\\frac{1}{2} & - \\frac{1}{2} & \\frac{1}{2} & - \\frac{1}{2}\\\\\\frac{1}{2} & \\frac{1}{2} & - \\frac{1}{2} & - \\frac{1}{2}\\\\\\frac{1}{2} & - \\frac{1}{2} & - \\frac{1}{2} & \\frac{1}{2}\\end{matrix}\\right] = \\left[\\begin{matrix}0 & 0 & 0 & 0\\\\0 & 0 & 0 & 1\\\\0 & 0 & 0 & 0\\\\0 & 1 & 0 & 0\\end{matrix}\\right] + \\left[\\begin{matrix}1 & 0 & 0 & 0\\\\0 & 0 & 0 & 0\\\\0 & 0 & 1 & 0\\\\0 & 0 & 0 & 0\\end{matrix}\\right]$"
      ],
      "text/plain": [
       "⎡1/2  1/2   1/2   1/2 ⎤ ⎛⎡1  0  0  0⎤   ⎡0  0  0  0⎤⎞ ⎡1/2  1/2   1/2   1/2 ⎤ \n",
       "⎢                     ⎥ ⎜⎢          ⎥   ⎢          ⎥⎟ ⎢                     ⎥ \n",
       "⎢1/2  -1/2  1/2   -1/2⎥ ⎜⎢0  1  0  0⎥   ⎢0  0  0  0⎥⎟ ⎢1/2  -1/2  1/2   -1/2⎥ \n",
       "⎢                     ⎥⋅⎜⎢          ⎥ + ⎢          ⎥⎟⋅⎢                     ⎥ \n",
       "⎢1/2  1/2   -1/2  -1/2⎥ ⎜⎢0  0  0  0⎥   ⎢0  0  0  1⎥⎟ ⎢1/2  1/2   -1/2  -1/2⎥ \n",
       "⎢                     ⎥ ⎜⎢          ⎥   ⎢          ⎥⎟ ⎢                     ⎥ \n",
       "⎣1/2  -1/2  -1/2  1/2 ⎦ ⎝⎣0  0  0  0⎦   ⎣0  0  1  0⎦⎠ ⎣1/2  -1/2  -1/2  1/2 ⎦ \n",
       "\n",
       "  ⎡1  0  0  0⎤   ⎡0  0  0  0⎤\n",
       "  ⎢          ⎥   ⎢          ⎥\n",
       "  ⎢0  0  0  0⎥   ⎢0  0  0  1⎥\n",
       "= ⎢          ⎥ + ⎢          ⎥\n",
       "  ⎢0  0  1  0⎥   ⎢0  0  0  0⎥\n",
       "  ⎢          ⎥   ⎢          ⎥\n",
       "  ⎣0  0  0  0⎦   ⎣0  1  0  0⎦"
      ]
     },
     "metadata": {},
     "output_type": "display_data"
    },
    {
     "data": {
      "text/latex": [
       "$\\displaystyle \\text{True}$"
      ],
      "text/plain": [
       "True"
      ]
     },
     "metadata": {},
     "output_type": "display_data"
    },
    {
     "name": "stdout",
     "output_type": "stream",
     "text": [
      "4)\n"
     ]
    },
    {
     "data": {
      "image/png": "[encoded data removed]",
      "text/latex": [
       "$\\displaystyle {P_{0}}\\otimes {I} + {P_{1}}\\otimes {e^{ia}} = {U_{1}}\\otimes {I}$"
      ],
      "text/plain": [
       "P₀⨂ I + P₁⨂ e__ia = U₁⨂ I"
      ]
     },
     "metadata": {},
     "output_type": "display_data"
    },
    {
     "data": {
      "text/latex": [
       "$\\displaystyle \\left[\\begin{matrix}0 & 0 & 0 & 0\\\\0 & 0 & 0 & 0\\\\0 & 0 & e^{i \\lambda} & 0\\\\0 & 0 & 0 & e^{i \\lambda}\\end{matrix}\\right] + \\left[\\begin{matrix}1 & 0 & 0 & 0\\\\0 & 1 & 0 & 0\\\\0 & 0 & 0 & 0\\\\0 & 0 & 0 & 0\\end{matrix}\\right] = \\left[\\begin{matrix}1 & 0 & 0 & 0\\\\0 & 1 & 0 & 0\\\\0 & 0 & e^{i \\lambda} & 0\\\\0 & 0 & 0 & e^{i \\lambda}\\end{matrix}\\right]$"
      ],
      "text/plain": [
       "               ⎡0  0   0     0  ⎤   ⎡1  0   0     0  ⎤\n",
       "⎡1  0  0  0⎤   ⎢                ⎥   ⎢                ⎥\n",
       "⎢          ⎥   ⎢0  0   0     0  ⎥   ⎢0  1   0     0  ⎥\n",
       "⎢0  1  0  0⎥   ⎢                ⎥   ⎢                ⎥\n",
       "⎢          ⎥ + ⎢       ⅈ⋅λ      ⎥ = ⎢       ⅈ⋅λ      ⎥\n",
       "⎢0  0  0  0⎥   ⎢0  0  ℯ      0  ⎥   ⎢0  0  ℯ      0  ⎥\n",
       "⎢          ⎥   ⎢                ⎥   ⎢                ⎥\n",
       "⎣0  0  0  0⎦   ⎢             ⅈ⋅λ⎥   ⎢             ⅈ⋅λ⎥\n",
       "               ⎣0  0   0    ℯ   ⎦   ⎣0  0   0    ℯ   ⎦"
      ]
     },
     "metadata": {},
     "output_type": "display_data"
    },
    {
     "data": {
      "text/latex": [
       "$\\displaystyle \\text{True}$"
      ],
      "text/plain": [
       "True"
      ]
     },
     "metadata": {},
     "output_type": "display_data"
    }
   ],
   "source": [
    "# Exercise 1, problem 3: Proof identities.\n",
    "import sympy\n",
    "from sympy import *\n",
    "from sympy import I\n",
    "from sympy.physics.quantum import TensorProduct\n",
    "init_printing(use_unicode=True)\n",
    "lambda_ = symbols('lambda')\n",
    "\n",
    "# Matrices\n",
    "H = (1/sympy.sqrt(2))*Matrix([[1,1],[1,-1]])\n",
    "X = Matrix([[0,1],[1,0]])\n",
    "Z = Matrix([[1,0],[0,-1]])\n",
    "Id = Matrix([[1,0],[0,1]])\n",
    "P0 = Matrix([[1,0],[0,0]])\n",
    "P1 = Matrix([[0,0],[0,1]])\n",
    "U1 = Matrix([[1,0],[0,exp(I*lambda_)]])\n",
    "Eia = Matrix([[exp(I*lambda_),0],[0,exp(I*lambda_)]])\n",
    "\n",
    "# Tensor Products\n",
    "P0xI = TensorProduct(P0,Id)\n",
    "P1xZ = TensorProduct(P1,Z)\n",
    "IxP0 = TensorProduct(Id,P0)\n",
    "ZxP1 = TensorProduct(Z,P1)\n",
    "P0xI = TensorProduct(P0,Id)\n",
    "P1xX = TensorProduct(P1,X)\n",
    "IxP0 = TensorProduct(Id,P0)\n",
    "XxP1 = TensorProduct(X,P1)\n",
    "HxH = TensorProduct(H,H)\n",
    "U1xI = TensorProduct(U1,Id)\n",
    "P1xEia = TensorProduct(P1,Eia)\n",
    "\n",
    "# Symbols\n",
    "Hs = MatrixSymbol('H', 2, 2)\n",
    "Xs = MatrixSymbol('X', 2, 2)\n",
    "Zs = MatrixSymbol('Z', 2, 2)\n",
    "Is = MatrixSymbol('I', 2, 2)\n",
    "P0s = MatrixSymbol('P0', 2, 2)\n",
    "P1s = MatrixSymbol('P1', 2, 2)\n",
    "U1s = MatrixSymbol('U1', 2, 2)\n",
    "Eias = MatrixSymbol('e^ia', 2, 2)\n",
    "\n",
    "display(Eq(Hs,H))\n",
    "display(Eq(Xs,X))\n",
    "display(Eq(Zs,Z))\n",
    "display(Eq(P0s,P0))\n",
    "display(Eq(P1s,P1))\n",
    "display(Eq(Is,Id))\n",
    "display(Eq(U1s,U1))\n",
    "display(Eq(Eias,Eia))\n",
    "\n",
    "# 1\n",
    "print(\"1)\")\n",
    "display(Eq(MatMul(Hs,Xs,Hs),MatMul(Zs)))\n",
    "display(Eq(MatMul(H,X,H, evaluate=False), Z))\n",
    "display(Eq(MatMul(H,X,H, evaluate=True), Z))\n",
    "\n",
    "# 2\n",
    "print(\"2)\")\n",
    "display(Eq(Add(TensorProduct(P0s,Is),TensorProduct(P1s,Zs)),Add(TensorProduct(Is,P0s),TensorProduct(Zs,P1s))))\n",
    "display(Eq(MatAdd(P0xI,P1xZ, evaluate=False),MatAdd(IxP0,ZxP1, evaluate=False)))\n",
    "display(Eq(MatAdd(P0xI,P1xZ, evaluate=True),MatAdd(IxP0,ZxP1, evaluate=True)))\n",
    "\n",
    "# 3\n",
    "print(\"3)\")\n",
    "display(Eq(Mul(Mul(TensorProduct(Hs,Hs),Add(TensorProduct(P0s,Is),TensorProduct(P1s,Xs)),TensorProduct(Hs,Hs))),Add(TensorProduct(Is,P0s),TensorProduct(Xs,P1s))))\n",
    "display(Eq(MatMul(MatMul(HxH,MatAdd(P0xI,P1xX),HxH)),MatAdd(IxP0,XxP1)))\n",
    "display(Eq(MatMul(MatMul(HxH,MatAdd(P0xI,P1xX, evaluate=True),HxH), evaluate=True),MatAdd(IxP0,XxP1, evaluate=True)))\n",
    "\n",
    "# 4\n",
    "print(\"4)\")\n",
    "display(Eq(Add(TensorProduct(P0s,Is),TensorProduct(P1s,Eias)),TensorProduct(U1s,Is)))\n",
    "display(Eq(MatAdd(P0xI,P1xEia),U1xI))\n",
    "display(Eq(MatAdd(P0xI,P1xEia, evaluate=True),U1xI))"
   ]
  },
  {
   "cell_type": "markdown",
   "metadata": {},
   "source": []
  }
 ],
 "metadata": {
  "kernelspec": {
   "display_name": "Python 3",
   "language": "python",
   "name": "python3"
  },
  "language_info": {
   "codemirror_mode": {
    "name": "ipython",
    "version": 3
   },
   "file_extension": ".py",
   "mimetype": "text/x-python",
   "name": "python",
   "nbconvert_exporter": "python",
   "pygments_lexer": "ipython3",
   "version": "3.6.9"
  }
 },
 "nbformat": 4,
 "nbformat_minor": 4
}
