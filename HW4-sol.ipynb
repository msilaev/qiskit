{
 "cells": [
  {
   "cell_type": "markdown",
   "metadata": {},
   "source": [
    "### Homework 4"
   ]
  },
  {
   "cell_type": "markdown",
   "metadata": {},
   "source": [
    "<b> Problem 1: Quantum Fourier Transform </b>\n",
    "Design the quantum circuit which implements QFT for $n=2$ and $n=3$ Qbits and\n",
    "test it using qiskit.  \n",
    "\n",
    "\n",
    " <br />\n",
    "<br />\n",
    "  \n",
    "<b> Solution </b>"
   ]
  },
  {
   "cell_type": "markdown",
   "metadata": {},
   "source": [
    "By definition the QFT is the following unitary operation"
   ]
  },
  {
   "cell_type": "markdown",
   "metadata": {},
   "source": [
    " $QFT|x\\rangle = \\frac{1}{2^{n/2}}\\sum_{y=0}^{2^n-1}e^{2\\pi i \\frac{xy}{2^n}} |y\\rangle$"
   ]
  },
  {
   "cell_type": "markdown",
   "metadata": {},
   "source": [
    "Note that here $xy$ is a usual multiplication. Let's unwrap this expression to understand how it can be implemeted in the real circuit. First let's represent $y$  in binary, i.e. $y=y_1 y_2 \\dots y_n$ where $y_j$ are either 0 or 1, so"
   ]
  },
  {
   "cell_type": "markdown",
   "metadata": {},
   "source": [
    " $y = \\sum\\limits_{k=1}^{n} 2^{n-k} y_k$"
   ]
  },
  {
   "cell_type": "markdown",
   "metadata": {},
   "source": [
    "Thus"
   ]
  },
  {
   "cell_type": "markdown",
   "metadata": {},
   "source": [
    " $\\frac{1}{2^{n/2}}\\sum_{y=0}^{2^n-1}e^{2\\pi i \\frac{xy}{2^n}} |y\\rangle = \n",
    " \\frac{1}{2^{n/2}}\\sum_{y=0}^{2^n-1}e^{2\\pi ix \\left[ \\sum\\limits_{k=1}^{n} y_k / 2^k \\right]} \n",
    " |y_1 y_2 \\dots y_n\\rangle  = \n",
    " \\frac{1}{2^{n/2}}\\sum_{y=0}^{2^n-1}\\prod\\limits_{k=1}^{n}e^{2\\pi ix y_k / 2^k } |y_1 y_2 \\dots y_n\\rangle = \\\\ =\n",
    " \\frac{1}{2^{n/2}}\\prod_{k=1}^{n}\\left( e^{2\\pi ix 0 / 2^k } |0\\rangle_k + e^{2\\pi ix 1 / 2^k } |1\\rangle_k \\right)= \n",
    " \\frac{1}{2^{n/2}}\\prod\\limits_{k=1}^{n}\\left( |0\\rangle_k + e^{2\\pi ix / 2^k } |1\\rangle_k \\right)= \\\\ =\n",
    " \\frac{1}{2^{n/2}} \\left( |0\\rangle_1 + e^{2\\pi ix / 2 } |1\\rangle_1  \\right) \\otimes \n",
    " \\left( |0\\rangle_2 + e^{2\\pi ix / 2^2 }  |1\\rangle_2  \\right) \\otimes \n",
    " \\dots \\otimes\n",
    " \\left( |0\\rangle_{n-1} + e^{2\\pi ix / 2^{n-1} } |1\\rangle_{n-1}  \\right) \n",
    " \\otimes \\left( |0\\rangle_n + e^{2\\pi ix / 2^n } |1\\rangle_n  \\right)$"
   ]
  },
  {
   "cell_type": "markdown",
   "metadata": {},
   "source": [
    "We can see that we can construct such a state using single Q-bit gates"
   ]
  },
  {
   "cell_type": "markdown",
   "metadata": {},
   "source": [
    " $H|x_k\\rangle = \\frac{1}{\\sqrt{2}}\\left( |0\\rangle + (-1)^{x_k}|1\\rangle \\right) \\equiv \\frac{1}{\\sqrt{2}}\n",
    " \\left( |0\\rangle + e^{2\\pi i x_k / 2}|1\\rangle \\right)$"
   ]
  },
  {
   "cell_type": "markdown",
   "metadata": {},
   "source": [
    "This is already almost what we want"
   ]
  },
  {
   "cell_type": "markdown",
   "metadata": {},
   "source": [
    "But we need a phase before the $|1\\rangle_k$ state to be equal to $2\\pi i x/2^k$. So we have to perform several additional rotations around the $z$-axis"
   ]
  },
  {
   "cell_type": "markdown",
   "metadata": {},
   "source": [
    "Let's examine the following state"
   ]
  },
  {
   "cell_type": "markdown",
   "metadata": {},
   "source": [
    " $\\prod\\limits_{j=k+1}^{n} C_j ROT_k H |x\\rangle_k$"
   ]
  },
  {
   "cell_type": "markdown",
   "metadata": {},
   "source": [
    "where $C_j ROT_k$ is the controled rotation of the Q-bit $k$ around the $z$ axis on the angle $2\\pi/2^k$ with the control Q-bit $j$. We can explicitly rewrite $C_j ROT_k$ in the following form"
   ]
  },
  {
   "cell_type": "markdown",
   "metadata": {},
   "source": [
    " $C_j ROT_k |1\\rangle_k = e^{2\\pi i x_j/2^k} |1\\rangle_k$"
   ]
  },
  {
   "cell_type": "markdown",
   "metadata": {},
   "source": [
    "Which basically means that we add phase $2\\pi x_j/2^k$ if the control Q-bit $x_j=1$. \n",
    "\n",
    "Noting again that $x/2^n = \\sum\\limits_{j=1}^{n} x_j / 2^j$"
   ]
  },
  {
   "cell_type": "markdown",
   "metadata": {},
   "source": [
    " $\\prod\\limits_{j=k+1}^{n} C_j ROT_k H |x\\rangle_k = \\frac{1}{\\sqrt{2}} \\left( |0\\rangle_k + e^{2\\pi i \\sum\\limits_{j=k}^{n}  x_j / 2^j} |1\\rangle_k\\right) = \\frac{1}{\\sqrt{2}} \\left( |0\\rangle_k + e^{2\\pi i x / 2^{(n-k)}} |1\\rangle_k\\right)$"
   ]
  },
  {
   "cell_type": "markdown",
   "metadata": {},
   "source": [
    "So we get what we wanted, but the Q-bit numbers should be reversed after all the gates, i.e $k \\rightarrow n-k$"
   ]
  },
  {
   "cell_type": "markdown",
   "metadata": {},
   "source": [
    "Qiskit implemetation of QFT"
   ]
  },
  {
   "cell_type": "code",
   "execution_count": 3,
   "metadata": {},
   "outputs": [],
   "source": [
    "from qiskit import QuantumCircuit, execute, Aer\n",
    "from qiskit.visualization import plot_histogram, plot_bloch_vector\n",
    "import numpy as np\n",
    "import numpy.random as rand\n",
    "\n",
    "backend = Aer.get_backend('qasm_simulator')"
   ]
  },
  {
   "cell_type": "code",
   "execution_count": 4,
   "metadata": {},
   "outputs": [],
   "source": [
    "def qft(qc, n):\n",
    "    # Hadamards and rotations\n",
    "    for i in range(n):\n",
    "        qb = n - i - 1\n",
    "        qc.h(qb)\n",
    "        for j in range(n - i - 1):\n",
    "            qc.cu1(np.pi/np.power(2, j + 1), qb - j - 1, qb)\n",
    "        qc.barrier()\n",
    "    \n",
    "    # Indecies reversal\n",
    "    for qb in range(n//2):\n",
    "        qc.swap(qb, n - qb - 1)"
   ]
  },
  {
   "cell_type": "markdown",
   "metadata": {},
   "source": [
    "Testing for $n = 3$"
   ]
  },
  {
   "cell_type": "code",
   "execution_count": 3,
   "metadata": {},
   "outputs": [
    {
     "data": {
      "text/plain": [
       "array([ 0.16386051+0.01186203j,  0.1506981 +0.19828995j,\n",
       "        0.36195154-0.10964399j, -0.33471177+0.01902266j,\n",
       "        0.38178857-0.26966034j, -0.30890114-0.01981044j,\n",
       "        0.4073751 +0.11649737j, -0.05218693+0.39876622j])"
      ]
     },
     "execution_count": 3,
     "metadata": {},
     "output_type": "execute_result"
    }
   ],
   "source": [
    "n = 3\n",
    "l = np.power(2, n)\n",
    "# Generating random initial state\n",
    "init = (rand.rand(2 * l).astype(np.complex) - 0.5) * 2\n",
    "init /= np.linalg.norm(init)\n",
    "init = init.reshape(l, 2)\n",
    "init[:,1] *= 1j\n",
    "init = init[:,0] + init[:,1]\n",
    "init"
   ]
  },
  {
   "cell_type": "code",
   "execution_count": 4,
   "metadata": {},
   "outputs": [
    {
     "data": {
      "text/plain": [
       "array([ 0.27219155+0.12209028j,  0.22884565+0.27720313j,\n",
       "        0.00552668-0.01271238j, -0.30212248+0.01040046j,\n",
       "        0.65763669-0.29953514j, -0.22303797-0.11025605j,\n",
       "       -0.16369059-0.17442463j, -0.01188202+0.22078523j])"
      ]
     },
     "execution_count": 4,
     "metadata": {},
     "output_type": "execute_result"
    }
   ],
   "source": [
    "# Manually calculating the QFT of the inital state\n",
    "est = np.arange(l).astype(np.complex)\n",
    "for i, y in enumerate(est):\n",
    "    amp = np.zeros_like(init).astype(np.complex)\n",
    "    for j, x in enumerate(init):\n",
    "        amp[j] = np.exp(2 * np.pi * 1j * i * j / l) * x\n",
    "    est[i] = 1 / np.sqrt(l) * np.sum(amp)\n",
    "est"
   ]
  },
  {
   "cell_type": "markdown",
   "metadata": {},
   "source": [
    "Visualize the cirquits"
   ]
  },
  {
   "cell_type": "code",
   "execution_count": 6,
   "metadata": {},
   "outputs": [
    {
     "data": {
      "image/png": "[encoded data removed]",
      "text/plain": [
       "<Figure size 1103.98x264.88 with 1 Axes>"
      ]
     },
     "execution_count": 6,
     "metadata": {},
     "output_type": "execute_result"
    }
   ],
   "source": [
    "n=3\n",
    "qc1 = QuantumCircuit(n, n)\n",
    "#qc1.initialize(init, range(n))\n",
    "qft(qc1, n)\n",
    "qc1.measure(range(n), range(n));\n",
    "qc1.draw(output='mpl',justify='none')"
   ]
  },
  {
   "cell_type": "code",
   "execution_count": 7,
   "metadata": {},
   "outputs": [
    {
     "data": {
      "image/png": "[encoded data removed]",
      "text/plain": [
       "<Figure size 682.432x204.68 with 1 Axes>"
      ]
     },
     "execution_count": 7,
     "metadata": {},
     "output_type": "execute_result"
    }
   ],
   "source": [
    "n=2\n",
    "qc1 = QuantumCircuit(n, n)\n",
    "#qc1.initialize(init, range(n))\n",
    "qft(qc1, n)\n",
    "qc1.measure(range(n), range(n));\n",
    "qc1.draw(output='mpl',justify='none')"
   ]
  },
  {
   "cell_type": "code",
   "execution_count": 8,
   "metadata": {},
   "outputs": [
    {
     "data": {
      "image/png": "[encoded data removed]",
      "text/plain": [
       "<Figure size 308.106x144.48 with 1 Axes>"
      ]
     },
     "execution_count": 8,
     "metadata": {},
     "output_type": "execute_result"
    }
   ],
   "source": [
    "n=1\n",
    "qc1 = QuantumCircuit(n, n)\n",
    "#qc1.initialize(init, range(n))\n",
    "qft(qc1, n)\n",
    "qc1.measure(range(n), range(n));\n",
    "qc1.draw(output='mpl',justify='none')"
   ]
  },
  {
   "cell_type": "code",
   "execution_count": null,
   "metadata": {},
   "outputs": [],
   "source": [
    "qc = QuantumCircuit(n, n)\n",
    "qc.initialize(init, range(n))\n",
    "qft(qc, n)\n",
    "qc.measure(range(n), range(n));"
   ]
  },
  {
   "cell_type": "code",
   "execution_count": 199,
   "metadata": {},
   "outputs": [],
   "source": [
    "shots = 1024\n",
    "res = execute(qc,backend,shots=shots).result()\n",
    "res = np.array([[int(key, 2), val/shots] for key, val in res.get_counts().items()])"
   ]
  },
  {
   "cell_type": "code",
   "execution_count": 200,
   "metadata": {},
   "outputs": [
    {
     "data": {
      "image/png": "[encoded data removed]",
      "text/plain": [
       "<Figure size 432x288 with 1 Axes>"
      ]
     },
     "metadata": {
      "needs_background": "light"
     },
     "output_type": "display_data"
    }
   ],
   "source": [
    "import matplotlib.pyplot as plt\n",
    "fig,ax=plt.subplots()\n",
    "ax.plot(res[np.argsort(res[:,0]),1])\n",
    "ax.plot(np.arange(l),np.abs(est)**2);"
   ]
  },
  {
   "cell_type": "markdown",
   "metadata": {},
   "source": [
    "The plots coincide, thus our circuit indeed perofrm QFT"
   ]
  },
  {
   "cell_type": "markdown",
   "metadata": {},
   "source": [
    "<b> Problem 2: Shor' algorith in qiskit </b>\n",
    "\n",
    " Design the quantum circuit which can find periods for the modular exponent $a^x (mod N)$ with some small number $a$ and $N$, e.g. $a=3$, $N=10$ or $a=2$, $N=9$. Test the algorithm using qiskit.\n",
    " \n",
    " <br />\n",
    "\n",
    "  \n",
    "<b> Solution </b>\n",
    "We will use similar approach as in Qiskit tutorial. The key components is the realization of modular exponent $a^x (mod N)$ using qunatum operators. \n"
   ]
  },
  {
   "cell_type": "code",
   "execution_count": 11,
   "metadata": {},
   "outputs": [],
   "source": [
    "import matplotlib.pyplot as plt\n",
    "import numpy as np\n",
    "from qiskit import QuantumCircuit, Aer, execute\n",
    "from qiskit.visualization import plot_histogram\n",
    "from math import gcd\n",
    "from numpy.random import randint\n",
    "import pandas as pd\n",
    "from fractions import Fraction\n",
    "import matplotlib.pyplot as plt \n"
   ]
  },
  {
   "cell_type": "markdown",
   "metadata": {},
   "source": [
    "Let's investigate the period $a^r mod N =1$ analytically"
   ]
  },
  {
   "cell_type": "code",
   "execution_count": 62,
   "metadata": {},
   "outputs": [
    {
     "name": "stdout",
     "output_type": "stream",
     "text": [
      "Could not find period, check a < N and have no common factors.\n"
     ]
    },
    {
     "data": {
      "image/png": "[encoded data removed]",
      "text/plain": [
       "<Figure size 432x288 with 1 Axes>"
      ]
     },
     "metadata": {
      "needs_background": "light"
     },
     "output_type": "display_data"
    }
   ],
   "source": [
    "N = 10\n",
    "a = 7\n",
    "\n",
    "# Calculate the plotting data\n",
    "xvals = np.arange(10)\n",
    "yvals = [np.mod(a**x, N) for x in xvals]\n",
    "\n",
    "# Use matplotlib to display it nicely\n",
    "fig, ax = plt.subplots()\n",
    "ax.plot(xvals, yvals, linewidth=1, linestyle='dotted', marker='x')\n",
    "ax.set(xlabel='$x$', ylabel='$%i^x$ mod $%i$' % (a, N),\n",
    "       title=\"Example of Periodic Function in Shor's Algorithm\")\n",
    "try: # plot r on the graph\n",
    "    r = yvals[1:].index(1) +1 \n",
    "    plt.annotate(text='', xy=(0,1), xytext=(r,1), arrowprops=dict(arrowstyle='<->'))\n",
    "    plt.annotate(text='$r=%i$' % r, xy=(r/3,1.5))\n",
    "except:\n",
    "    print('Could not find period, check a < N and have no common factors.')"
   ]
  },
  {
   "cell_type": "markdown",
   "metadata": {},
   "source": [
    "Inverse QFT"
   ]
  },
  {
   "cell_type": "code",
   "execution_count": 26,
   "metadata": {},
   "outputs": [],
   "source": [
    "def qft_dagger(n):\n",
    "    \"\"\"n-qubit QFTdagger the first n qubits in circ\"\"\"\n",
    "    qc = QuantumCircuit(n)\n",
    "    # Don't forget the Swaps!\n",
    "    for qubit in range(n//2):\n",
    "        qc.swap(qubit, n-qubit-1)\n",
    "    for j in range(n):\n",
    "        for m in range(j):\n",
    "            qc.cu1(-np.pi/float(2**(j-m)), m, j)\n",
    "        qc.h(j)\n",
    "    qc.name = \"QFT†\"\n",
    "    return qc"
   ]
  },
  {
   "cell_type": "markdown",
   "metadata": {},
   "source": [
    "The realization of quantum modular multiplication $U_a |y\\rangle =  |ay mod N \\rangle $ for $y< N$ can be non-trivial in general. We will use the simplified approach based on the fact that the input state to which we apply operators  is $|1\\rangle$. Then using e.g. $a=3$ and $N=10$ and $2^5 =32$ in the quantum phase estimation algorithm we note that   $U_a^4 |1\\rangle =  |81 mod N \\rangle = |1 mod N \\rangle $ can be replaced by the identity operator. Next, $U_a^2 |1\\rangle= |9 mod N \\rangle = |1001 \\rangle$ applied to state $|1\\rangle$  acts $X_3$. \n",
    "Last, for the possible inputs $U_3 1 =3$ and $U_a 9 = |7\\rangle$. In binary representation $U_3 0001 = 0011 $,  $U_3 1001 = 0111 $. One can see that such transformation is the same as $Swap(2,1) X_1$. Note that in contrast to the original oparators for $U_a^k$  such reduced operators don't commute so that their order is important.   "
   ]
  },
  {
   "cell_type": "code",
   "execution_count": 39,
   "metadata": {},
   "outputs": [],
   "source": [
    "def U4():\n",
    "    \"\"\"Controlled multiplication by 81 mod 10\"\"\"\n",
    "    U = QuantumCircuit(4)   \n",
    "    U = U.to_gate()\n",
    "    U.name = \"U4\" \n",
    "    c_U = U.control()\n",
    "    return c_U"
   ]
  },
  {
   "cell_type": "code",
   "execution_count": 40,
   "metadata": {},
   "outputs": [],
   "source": [
    "def U2():\n",
    "    \"\"\"Controlled multiplication by 9 mod 10\"\"\"\n",
    "    U = QuantumCircuit(4)   \n",
    "    U.x(3)\n",
    "    U = U.to_gate()\n",
    "    U.name = \"U2\" \n",
    "    c_U = U.control()\n",
    "    return c_U"
   ]
  },
  {
   "cell_type": "code",
   "execution_count": 41,
   "metadata": {},
   "outputs": [],
   "source": [
    "def U1():\n",
    "    \"\"\"Controlled multiplication by 9 mod 10\"\"\"\n",
    "    U = QuantumCircuit(4)   \n",
    "    U.x(1)\n",
    "    U.swap(3,2)\n",
    "    U = U.to_gate()\n",
    "    U.name = \"U1\" \n",
    "    c_U = U.control()\n",
    "    return c_U"
   ]
  },
  {
   "cell_type": "code",
   "execution_count": 53,
   "metadata": {},
   "outputs": [
    {
     "data": {
      "text/html": [
       "<pre style=\"word-wrap: normal;white-space: pre;background: #fff0;line-height: 1.1;font-family: &quot;Courier New&quot;,Courier,monospace\">     ┌───┐              ┌───────┐┌─┐      \n",
       "q_0: ┤ H ├──────────────┤0      ├┤M├──────\n",
       "     ├───┤              │       │└╥┘┌─┐   \n",
       "q_1: ┤ H ├───■──────────┤1 QFT† ├─╫─┤M├───\n",
       "     ├───┤   │          │       │ ║ └╥┘┌─┐\n",
       "q_2: ┤ H ├───┼──────■───┤2      ├─╫──╫─┤M├\n",
       "     └───┘┌─┴┼──┐┌─┴┼──┐└───────┘ ║  ║ └╥┘\n",
       "q_3: ─────┤0 │  ├┤0 │  ├──────────╫──╫──╫─\n",
       "          │     ││     │          ║  ║  ║ \n",
       "q_4: ─────┤1    ├┤1    ├──────────╫──╫──╫─\n",
       "          │  U2 ││  U1 │          ║  ║  ║ \n",
       "q_5: ─────┤2    ├┤2    ├──────────╫──╫──╫─\n",
       "     ┌───┐│     ││     │          ║  ║  ║ \n",
       "q_6: ┤ X ├┤3    ├┤3    ├──────────╫──╫──╫─\n",
       "     └───┘└─────┘└─────┘          ║  ║  ║ \n",
       "c: 3/═════════════════════════════╩══╩══╩═\n",
       "                                  0  1  2 </pre>"
      ],
      "text/plain": [
       "     ┌───┐              ┌───────┐┌─┐      \n",
       "q_0: ┤ H ├──────────────┤0      ├┤M├──────\n",
       "     ├───┤              │       │└╥┘┌─┐   \n",
       "q_1: ┤ H ├───■──────────┤1 QFT† ├─╫─┤M├───\n",
       "     ├───┤   │          │       │ ║ └╥┘┌─┐\n",
       "q_2: ┤ H ├───┼──────■───┤2      ├─╫──╫─┤M├\n",
       "     └───┘┌─┴┼──┐┌─┴┼──┐└───────┘ ║  ║ └╥┘\n",
       "q_3: ─────┤0 │  ├┤0 │  ├──────────╫──╫──╫─\n",
       "          │     ││     │          ║  ║  ║ \n",
       "q_4: ─────┤1    ├┤1    ├──────────╫──╫──╫─\n",
       "          │  U2 ││  U1 │          ║  ║  ║ \n",
       "q_5: ─────┤2    ├┤2    ├──────────╫──╫──╫─\n",
       "     ┌───┐│     ││     │          ║  ║  ║ \n",
       "q_6: ┤ X ├┤3    ├┤3    ├──────────╫──╫──╫─\n",
       "     └───┘└─────┘└─────┘          ║  ║  ║ \n",
       "c: 3/═════════════════════════════╩══╩══╩═\n",
       "                                  0  1  2 "
      ]
     },
     "execution_count": 53,
     "metadata": {},
     "output_type": "execute_result"
    }
   ],
   "source": [
    "# Create QuantumCircuit with n_count=3 counting qubits\n",
    "# plus 4 qubits for U to act on\n",
    "n_count=3;\n",
    "qc = QuantumCircuit(n_count + 4, n_count)\n",
    "\n",
    "# Initialise counting qubits\n",
    "# in state |+>\n",
    "for q in range(n_count):\n",
    "    qc.h(q)\n",
    "    \n",
    "# And ancilla register in state |1>\n",
    "qc.x(3+n_count)\n",
    "\n",
    "# Do controlled-U operations\n",
    "for q in range(n_count):\n",
    "#    if q==1: \n",
    "#        qc.append(U4(), \n",
    "#                 [q] + [i+n_count for i in range(4)])\n",
    "    if q==1: \n",
    "        qc.append(U2(), \n",
    "                 [q] + [i+n_count for i in range(4)])\n",
    "    if q==2: \n",
    "        qc.append(U1(), \n",
    "                 [q] + [i+n_count for i in range(4)])\n",
    "\n",
    "# Do inverse-QFT\n",
    "qc.append(qft_dagger(n_count), range(n_count))\n",
    "\n",
    "# Measure circuit\n",
    "qc.measure(range(n_count), range(n_count))\n",
    "qc.draw('text')"
   ]
  },
  {
   "cell_type": "code",
   "execution_count": 54,
   "metadata": {},
   "outputs": [
    {
     "data": {
      "image/png": "[encoded data removed]",
      "text/plain": [
       "<Figure size 504x360 with 1 Axes>"
      ]
     },
     "execution_count": 54,
     "metadata": {},
     "output_type": "execute_result"
    }
   ],
   "source": [
    "backend = Aer.get_backend('qasm_simulator')\n",
    "results = execute(qc, backend, shots=2048).result()\n",
    "counts = results.get_counts()\n",
    "plot_histogram(counts)"
   ]
  },
  {
   "cell_type": "markdown",
   "metadata": {},
   "source": [
    "Now, post-process these results using the code from qiskit tutorial for the calculation of $r$ using continous fraction expansion "
   ]
  },
  {
   "cell_type": "code",
   "execution_count": 55,
   "metadata": {},
   "outputs": [
    {
     "name": "stdout",
     "output_type": "stream",
     "text": [
      "     Register Output       Phase\n",
      "0  000(bin) = 0(dec)  0/8 = 0.00\n",
      "1  001(bin) = 1(dec)  1/8 = 0.12\n",
      "2  010(bin) = 2(dec)  2/8 = 0.25\n",
      "3  011(bin) = 3(dec)  3/8 = 0.38\n",
      "4  101(bin) = 5(dec)  5/8 = 0.62\n",
      "5  110(bin) = 6(dec)  6/8 = 0.75\n",
      "6  111(bin) = 7(dec)  7/8 = 0.88\n"
     ]
    }
   ],
   "source": [
    "rows, measured_phases = [], []\n",
    "for output in counts:\n",
    "    decimal = int(output, 2)  # Convert (base 2) string to decimal\n",
    "    phase = decimal/(2**n_count) # Find corresponding eigenvalue\n",
    "    measured_phases.append(phase)\n",
    "    # Add these values to the rows in our table:\n",
    "    rows.append([\"%s(bin) = %i(dec)\" % (output, decimal), \n",
    "                 \"%i/%i = %.2f\" % (decimal, 2**n_count, phase)])\n",
    "# Print the rows in a table\n",
    "headers=[\"Register Output\", \"Phase\"]\n",
    "df = pd.DataFrame(rows, columns=headers)\n",
    "print(df)"
   ]
  },
  {
   "cell_type": "code",
   "execution_count": 57,
   "metadata": {},
   "outputs": [
    {
     "name": "stdout",
     "output_type": "stream",
     "text": [
      "   Phase Fraction  Guess for r\n",
      "0  0.000      0/1            1\n",
      "1  0.125      1/8            8\n",
      "2  0.250      1/4            4\n",
      "3  0.375      3/8            8\n",
      "4  0.625      5/8            8\n",
      "5  0.750      3/4            4\n",
      "6  0.875      7/8            8\n"
     ]
    }
   ],
   "source": [
    "rows = []\n",
    "for phase in measured_phases:\n",
    "    frac = Fraction(phase).limit_denominator(15)\n",
    "    rows.append([phase, \"%i/%i\" % (frac.numerator, frac.denominator), frac.denominator])\n",
    "# Print as a table\n",
    "headers=[\"Phase\", \"Fraction\", \"Guess for r\"]\n",
    "df = pd.DataFrame(rows, columns=headers)\n",
    "print(df)"
   ]
  },
  {
   "cell_type": "markdown",
   "metadata": {},
   "source": [
    "Comparing with the above plot one can see that the procedure works. "
   ]
  }
 ],
 "metadata": {
  "kernelspec": {
   "display_name": "Python 3",
   "language": "python",
   "name": "python3"
  },
  "language_info": {
   "codemirror_mode": {
    "name": "ipython",
    "version": 3
   },
   "file_extension": ".py",
   "mimetype": "text/x-python",
   "name": "python",
   "nbconvert_exporter": "python",
   "pygments_lexer": "ipython3",
   "version": "3.8.3"
  }
 },
 "nbformat": 4,
 "nbformat_minor": 4
}
