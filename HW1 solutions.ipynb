{
 "cells": [
  {
   "cell_type": "markdown",
   "metadata": {},
   "source": [
    "### Homework 1"
   ]
  },
  {
   "cell_type": "markdown",
   "metadata": {},
   "source": [
    " <b>Problem 1: Extracting Qubit phase</b>\n",
    " \n",
    " \n",
    " Suppose that we have the Qubit in the state \n",
    "  \\begin{align} \\label{Eq:1} \\tag{1} \n",
    "  |\\psi\\rangle = \\sin\\theta|0\\rangle + e^{i\\varphi}\\cos\\theta|1\\rangle\n",
    "  \\end{align}\n",
    "  Show how using the measurement in computational basis \n",
    " to measure the angle $\\varphi$ provided $\\theta$ is known.\n",
    "    Write the code using Qiskit which prepares this state \n",
    "  and performs this measurement. Visualise the circuit. \n",
    "  Give link to jupyter notebook. \n",
    "  \n",
    "  <b> Solution </b>\n",
    "  Let's apply Hadamard gate to the state (1)\n",
    " \\begin{align} \\nonumber\n",
    "  H|\\psi\\rangle = \\frac{(\\sin\\theta + e^{i\\varphi} \\cos\\theta )}{\\sqrt{2}}|0\\rangle + \n",
    "  \\frac{(\\sin\\theta - e^{i\\varphi} \\cos\\theta )}{\\sqrt{2}} \\cos\\theta|1\\rangle\n",
    "  \\end{align}\n",
    "  Measuerement after applying the Hadamard gate is called measurement in the superposition basis. \n",
    "  Then, measurement of the state $\\psi$ in superposition basis will give the probabilities $(1\\pm \\cos\\varphi\\sin(2\\theta))/2$ which allows determining both angles $\\theta$ and $\\varphi$. \n"
   ]
  },
  {
   "cell_type": "markdown",
   "metadata": {},
   "source": [
    "<b> Now let's implement that using qiskit. </b> "
   ]
  },
  {
   "cell_type": "code",
   "execution_count": 29,
   "metadata": {},
   "outputs": [
    {
     "name": "stderr",
     "output_type": "stream",
     "text": [
      "ibmqfactory.load_account:WARNING:2020-11-24 22:20:54,933: Credentials are already in use. The existing account in the session will be replaced.\n"
     ]
    },
    {
     "data": {
      "text/plain": [
       "<AccountProvider for IBMQ(hub='ibm-q', group='open', project='main')>"
      ]
     },
     "execution_count": 29,
     "metadata": {},
     "output_type": "execute_result"
    }
   ],
   "source": [
    "#!pip install qiskit\n",
    "import numpy as np\n",
    "import qiskit as qk\n",
    "from qiskit import IBMQ,Aer\n",
    "from qiskit import *\n",
    "from math import pi\n",
    "from qiskit.visualization import plot_bloch_vector\n",
    "from qiskit.visualization import plot_bloch_multivector\n",
    "from qiskit.tools.visualization import plot_histogram\n",
    "\n",
    "from qiskit import QuantumRegister, ClassicalRegister, QuantumCircuit\n",
    "from numpy import pi\n",
    "\n",
    "\n",
    "import Qconfig_IBMQ_experience\n",
    "IBMQ.save_account(Qconfig_IBMQ_experience.APItoken, overwrite=True)\n",
    "IBMQ.load_account()\n",
    "\n"
   ]
  },
  {
   "cell_type": "markdown",
   "metadata": {},
   "source": [
    "Use the custom $U_3$ gate to prepare the required state with $\\theta=\\varphi=\\pi/3$"
   ]
  },
  {
   "cell_type": "code",
   "execution_count": 57,
   "metadata": {},
   "outputs": [
    {
     "data": {
      "image/png": "[encoded data removed]",
      "text/plain": [
       "<Figure size 247.906x144.48 with 1 Axes>"
      ]
     },
     "execution_count": 57,
     "metadata": {},
     "output_type": "execute_result"
    }
   ],
   "source": [
    "#qreg_q = QuantumRegister(1, 'q')\n",
    "#creg_c = ClassicalRegister(1, 'c')\n",
    "circuit = QuantumCircuit(1, 1)\n",
    "circuit.u3(-pi/3, pi, 0, range(1))\n",
    "circuit.draw(output='mpl')"
   ]
  },
  {
   "cell_type": "markdown",
   "metadata": {},
   "source": [
    "Measuring in the computational basis gives the amplitudes which ideally should be $\\cos^2(\\pi/3)=0.25$ and $\\sin^2(\\pi/3)=0.75$. "
   ]
  },
  {
   "cell_type": "code",
   "execution_count": 67,
   "metadata": {
    "scrolled": true
   },
   "outputs": [
    {
     "data": {
      "image/png": "[encoded data removed]",
      "text/plain": [
       "<Figure size 504x360 with 1 Axes>"
      ]
     },
     "execution_count": 67,
     "metadata": {},
     "output_type": "execute_result"
    }
   ],
   "source": [
    "circuit = QuantumCircuit(1, 1)\n",
    "circuit.u3(-pi/3, pi+pi/3, 0, range(1))\n",
    "circuit.measure(range(1),range(1))\n",
    "backend=Aer.get_backend('qasm_simulator')\n",
    "jobIBM=qk.execute(circuit,backend=backend,shots=1024)\n",
    "resultZSim=jobIBM.result()\n",
    "plot_histogram([resultZSim.get_counts(circuit)])"
   ]
  },
  {
   "cell_type": "markdown",
   "metadata": {},
   "source": [
    "Measuring in the superposition basis gives the coeffitients which ideally should be  $(1 + \\cos\\varphi\\sin(2\\theta))/2=0.716$ and $(1 - \\cos\\varphi\\sin(2\\theta))/2=0.284$"
   ]
  },
  {
   "cell_type": "code",
   "execution_count": 68,
   "metadata": {},
   "outputs": [
    {
     "data": {
      "image/png": "[encoded data removed]",
      "text/plain": [
       "<Figure size 308.106x144.48 with 1 Axes>"
      ]
     },
     "execution_count": 68,
     "metadata": {},
     "output_type": "execute_result"
    }
   ],
   "source": [
    "circuit = QuantumCircuit(1, 1)\n",
    "circuit.u3(-pi/3, pi+pi/3, 0, range(1))\n",
    "circuit.h(range(1))\n",
    "circuit.draw(output='mpl')"
   ]
  },
  {
   "cell_type": "code",
   "execution_count": 69,
   "metadata": {},
   "outputs": [
    {
     "data": {
      "image/png": "[encoded data removed]",
      "text/plain": [
       "<Figure size 504x360 with 1 Axes>"
      ]
     },
     "execution_count": 69,
     "metadata": {},
     "output_type": "execute_result"
    }
   ],
   "source": [
    "circuit1 = QuantumCircuit(1, 1)\n",
    "circuit1.u3(-pi/3, pi+pi/3, 0, range(1))\n",
    "circuit1.h(range(1))\n",
    "circuit1.measure(range(1),range(1))\n",
    "backend=Aer.get_backend('qasm_simulator')\n",
    "#jobIBM=qk.execute(circuit,backend=backend,shots=1024)\n",
    "jobIBM=qk.execute(circuit1,backend=backend,shots=1024)\n",
    "resultZSim=jobIBM.result()\n",
    "plot_histogram([resultZSim.get_counts(circuit1)])"
   ]
  },
  {
   "cell_type": "markdown",
   "metadata": {},
   "source": [
    "<b> Problem 2: Single Qubit state preparation </b>\n",
    "    \n",
    "  Suggest a circuit which uses fixed number of standard gates: $X$, $H$, $S$ and $R_z(\\gamma)$\n",
    "  where $R_z(\\gamma)$ is rotation around $z$ axis by an arbitrary angle $\\gamma$ \n",
    "  to prepare the state $|\\psi\\rangle = \\sin\\theta|0\\rangle + e^{i\\varphi}\\cos\\theta|1\\rangle$ modulo the total phase of the wave function. \n",
    "  Compare the accuracy of this procedure  with custom $U_3$ gate at IMB Quantum\n",
    "  for the angles $\\varphi=\\theta = \\pi/3$. \n",
    "    Write the code using Qiskit, give link to jupyter notebook. \n",
    "  \n",
    "<b> Solution </b> \n",
    "  We can search for the  transformation using the following chain of transforms \n",
    "  \n",
    "  $H |0\\rangle = (|0\\rangle + |1\\rangle )/\\sqrt{2}$, \n",
    "  \n",
    "  $R_z(2 \\theta  + \\pi) H |0\\rangle = (|0\\rangle - e^ {2i \\theta } |1\\rangle )/\\sqrt{2} $,\n",
    "  \n",
    "  $H R_z(2 \\theta+ \\pi) H |0\\rangle = -i e^ {i \\theta } (\\sin\\theta|0\\rangle + i  \\cos \\theta|1\\rangle )$,\n",
    "  \n",
    "  $R_z(\\varphi-\\pi/2) H R_z(2 \\theta+ \\pi) H |0\\rangle =  -i e^ {i \\theta } (\\sin \\theta|0\\rangle + e^{i\\varphi} \\cos \\theta |1\\rangle )$\n",
    "\n",
    "  Below we check this state by comparing with the actions if custom $U_3$ operator discussed above.\n",
    "  \n",
    "  <br />\n",
    "<br />\n",
    "  \n"
   ]
  },
  {
   "cell_type": "markdown",
   "metadata": {},
   "source": [
    "Measuring in the computational basis gives the amplitudes which ideally should be $\\cos^2(\\pi/3)=0.25$ and $\\sin^2(\\pi/3)=0.75$. "
   ]
  },
  {
   "cell_type": "code",
   "execution_count": 73,
   "metadata": {},
   "outputs": [
    {
     "data": {
      "image/png": "[encoded data removed]",
      "text/plain": [
       "<Figure size 504x360 with 1 Axes>"
      ]
     },
     "execution_count": 73,
     "metadata": {},
     "output_type": "execute_result"
    }
   ],
   "source": [
    "circuit1 = QuantumCircuit(1, 1)\n",
    "circuit1.h(range(1))\n",
    "circuit1.rz(pi*2/3 + pi, range(1))\n",
    "circuit1.h(range(1))\n",
    "circuit1.rz(pi/3- pi/2, range(1))\n",
    "circuit1.measure(range(1),range(1))\n",
    "backend=Aer.get_backend('qasm_simulator')\n",
    "jobIBM=qk.execute(circuit1,backend=backend,shots=1024)\n",
    "resultZSim=jobIBM.result()\n",
    "plot_histogram([resultZSim.get_counts(circuit1)])"
   ]
  },
  {
   "cell_type": "markdown",
   "metadata": {},
   "source": [
    "Measuring in the superposition basis gives the coeffitients which ideally should be  $(1 + \\cos\\varphi\\sin(2\\theta))/2=0.716$ and $(1 - \\cos\\varphi\\sin(2\\theta))/2=0.284$"
   ]
  },
  {
   "cell_type": "code",
   "execution_count": 71,
   "metadata": {},
   "outputs": [
    {
     "data": {
      "image/png": "[encoded data removed]",
      "text/plain": [
       "<Figure size 504x360 with 1 Axes>"
      ]
     },
     "execution_count": 71,
     "metadata": {},
     "output_type": "execute_result"
    }
   ],
   "source": [
    "circuit1 = QuantumCircuit(1, 1)\n",
    "circuit1.h(range(1))\n",
    "circuit1.rz(pi*2/3 + pi, range(1))\n",
    "circuit1.h(range(1))\n",
    "circuit1.rz(pi/3- pi/2, range(1))\n",
    "circuit1.h(range(1))\n",
    "circuit1.measure(range(1),range(1))\n",
    "backend=Aer.get_backend('qasm_simulator')\n",
    "jobIBM=qk.execute(circuit1,backend=backend,shots=1024)\n",
    "resultZSim=jobIBM.result()\n",
    "plot_histogram([resultZSim.get_counts(circuit1)])"
   ]
  },
  {
   "cell_type": "markdown",
   "metadata": {},
   "source": [
    "Let us compare how well the operators  $U_3(2\\pi/3, \\pi/3, -\\pi/3)$ and $R_z(\\varphi-\\pi/2) H R_z(2 \\theta+ \\pi) H $ prepare the state on the real quantum computer. "
   ]
  },
  {
   "cell_type": "code",
   "execution_count": 75,
   "metadata": {},
   "outputs": [
    {
     "data": {
      "image/png": "[encoded data removed]",
      "text/plain": [
       "<Figure size 504x360 with 1 Axes>"
      ]
     },
     "execution_count": 75,
     "metadata": {},
     "output_type": "execute_result"
    }
   ],
   "source": [
    "my_provider = IBMQ.get_provider()\n",
    "backend  = my_provider.get_backend('ibmqx2')\n",
    "\n",
    "circuitU3 = QuantumCircuit(1, 1)\n",
    "circuitU3.u3(-pi/3, pi+pi/3, 0, range(1))\n",
    "circuitU3.measure(range(1),range(1))\n",
    "jobIBM=qk.execute(circuitU3,backend=backend,shots=1024)\n",
    "resultSimU3=jobIBM.result()\n",
    "\n",
    "circuitRHRH = QuantumCircuit(1, 1)\n",
    "circuitRHRH.h(range(1))\n",
    "circuitRHRH.rz(pi*2/3 + pi, range(1))\n",
    "circuitRHRH.h(range(1))\n",
    "circuitRHRH.rz(pi/3- pi/2, range(1))\n",
    "circuitRHRH.measure(range(1),range(1))\n",
    "jobIBM=qk.execute(circuitRHRH,backend=backend,shots=1024)\n",
    "resultSimuRHRH=jobIBM.result()\n",
    "\n",
    "\n",
    "plot_histogram([resultSimU3.get_counts(circuitU3), resultSimuRHRH.get_counts(circuitRHRH)])"
   ]
  },
  {
   "cell_type": "markdown",
   "metadata": {},
   "source": [
    "<b> Problem 3: Useful identities for 1-Qubit and 2-Qubit gates </b>\n",
    "  \n",
    "  Prove the following identities 1) $HXH=Z$, 2) $cZ_{12}=cZ_{21}$, \n",
    "  3) $H_1 H_2 cX_{12} H_1 H_2 = cX_{21}$, 4) $ce^{i\\alpha}_{12} =  U_{1}(\\alpha ) $. \n",
    "  \n",
    "  <b> Solution </b> \n",
    "   1) $HXH = (\\sigma_x + \\sigma_z) \\sigma_x (\\sigma_x + \\sigma_z)/2 =\n",
    "  \\sigma_x ( \\sigma_x - \\sigma_z) (\\sigma_x + \\sigma_z)/2 = \\sigma_z  $- \n",
    "  \n",
    "   2) We can use that $\\sigma_z |0\\rangle = |0\\rangle$ so that $cZ_{12} \n",
    "    |0\\rangle_1|0\\rangle_2  = cZ_{21}  |0\\rangle_1|0\\rangle_2  $, \n",
    "   $cZ_{12}  |1\\rangle_1|0\\rangle_2  = cZ_{21}  |1\\rangle_1|0\\rangle_2  $ and so on for all other basis elements in 2-Qubit space. \n",
    "   \n",
    "   3 ) This follows from 1) and 2)\n",
    "   \n",
    "   4) $c e^{i\\alpha}_{12}  |1\\rangle_1|0\\rangle_2 = e^{i\\alpha}|1\\rangle_1|0\\rangle_2 $ \n",
    "   and\n",
    " $c e^{i\\alpha}_{12}  |0\\rangle_1|0\\rangle_2 =|0\\rangle_1|0\\rangle_2 $ .\n",
    " This coincides with the action of the operator \n",
    " $ U_1(\\alpha) =\\left(\n",
    "   \\begin{smallmatrix}\n",
    "   1 & 0 \n",
    "      \\\\ 0 & e^{i\\alpha} \n",
    "      \\end{smallmatrix}\n",
    "      \\right ) \n",
    "      $\n",
    "\n",
    "  \n"
   ]
  },
  {
   "cell_type": "markdown",
   "metadata": {},
   "source": [
    "### Homework 2"
   ]
  },
  {
   "cell_type": "markdown",
   "metadata": {},
   "source": [
    "\n",
    "<b> Problem 1 : Separable and entangled states</b> \n",
    "\n",
    "Determine which of the following states are entangled. If the state is not entangled, show how to write that as a tensor product; if it is entangled, prove it. \n",
    "\n",
    " (a) $\\frac{2}{3} |00\\rangle + \\frac{1}{3} |01\\rangle  - \\frac{2}{3} |11\\rangle $ \n",
    "  \n",
    " (b) $\\frac{1}{2} \\left( |00\\rangle - i  |01\\rangle  + i  |10\\rangle + |11\\rangle  \\right)$ \n",
    " \n",
    " (c)  $\\frac{1}{2} \\left( |00\\rangle -   |01\\rangle  +  |10\\rangle +  |11\\rangle  \\right)$ \n",
    "  \n",
    "  \n",
    " <b> Solution </b>\n",
    " The separable two-qubit state is  given by \n",
    " \n",
    "$ (\\alpha_1 |0\\rangle + \\beta_1 |1\\rangle ) (\\alpha_2 |0\\rangle + \\beta_2 |1\\rangle )\n",
    "  =  \\alpha_1\\alpha_2 |00\\rangle + \\beta_1\\beta_2 |11\\rangle + \\alpha_1 \\beta_2|01\\rangle + \\alpha_2 \\beta_1|10\\rangle $\n",
    "\n",
    "The general two-qubit state is  given by \n",
    "$ a_0 |00\\rangle + a_3 |11\\rangle + a_1|01\\rangle + a_2|10\\rangle $\n",
    "\n",
    "So that the separable state satisfies \n",
    " $a_0/a_1 = a_2/a3$. \n",
    " From this criterion only the state (b) is entangled\n",
    " which is given as the tensor product $(|0\\rangle + i |1\\rangle )\n",
    " (|0\\rangle - i |1\\rangle ))$. "
   ]
  },
  {
   "cell_type": "markdown",
   "metadata": {},
   "source": [
    "<b> Problem 2: Preparation of the general 2-Qubit pure state </b>\n",
    "\n",
    " Using Schmidt decomposition and its relation to the Singular value decomposition of matrices, suggest the algorithm to prepare general 2-Qubit pure state\n",
    " \\begin{align} \\label{Eq:Gen2Qubit} \\tag{1}\n",
    " |\\psi\\rangle = a_{00} |00\\rangle + a_{01} |01\\rangle\n",
    "  + \n",
    " a_{10} |10\\rangle \n",
    "  + \n",
    "  a_{11} |11\\rangle   \n",
    " \\end{align}\n",
    " Apply this procedure to prepare the example 2-Qbit state\n",
    "  \n",
    " (a)  $| \\Phi^{\\pm} \\rangle = \\frac{1}{\\sqrt{2}} ( | 00 \\rangle \\pm | 11 \\rangle )$  \n",
    " \n",
    " (b)  $| \\Psi^{\\pm} \\rangle = \\frac{1}{\\sqrt{2}} ( | 01 \\rangle \\pm | 10 \\rangle ) $\n",
    " \n",
    " (c) $ \\Phi \\rangle = \\frac{1}{\\sqrt{12}} (3 |00\\rangle + |01\\rangle + |10\\rangle  - |11\\rangle)$\n",
    "\n",
    " The states $| \\Phi^{\\pm} \\rangle $ and $| \\Psi^{\\pm} \\rangle $ \n",
    " are called Bell states, they are used in quantum cryptography  algorithms. \n",
    "  Write code in Qiskit, give the link to the Jupyter notebook. \n",
    "  \n",
    "  <b> Solution </b>\n",
    "  \n",
    "   First, let us considet the general aproach to the 2-Qubit state preparation. \n",
    "   \n",
    "   Consider the circuit $V_1 U_2cX_{12} B_1 $.    Let's prove that the above circuit prepares the state \n",
    " \\begin{align} \\label{Eq:psi} \\tag{2}\n",
    " |\\psi\\rangle = a_{00}|00\\rangle + \n",
    "    a_{10}|10\\rangle + a_{01}|01\\rangle + \n",
    "    a_{11}|11\\rangle\n",
    "\\end{align}    \n",
    "   where\n",
    "    $A= \\left( \\begin{smallmatrix}\n",
    "   a_{00} & a_{10} \n",
    "      \\\\ a_{01}  & a_{11} \n",
    "           \\end{smallmatrix}\n",
    "            \\right) = U B V^T$            \n",
    " where  unitary matrices $U$, $V$ and diagonal $B$ present the singular value decomposition of the matrix A. \n",
    "  If the matrix coefficients are $V= \\left( \\begin{smallmatrix}\n",
    "   v_{11} & v_{12} \n",
    "      \\\\ v_{21}  & v_{22} \n",
    "           \\end{smallmatrix}\n",
    "            \\right)$, \n",
    "            $U= \\left( \\begin{smallmatrix}\n",
    "   u_{11} & u_{12} \n",
    "      \\\\ u_{21}  & u_{22} \n",
    "           \\end{smallmatrix}\n",
    "            \\right)$ ,             \n",
    "             $B= \\left( \\begin{smallmatrix}\n",
    "   b_{1} & 0 \n",
    "      \\\\ 0 & b_{2} \n",
    "           \\end{smallmatrix}\n",
    "            \\right)$\n",
    "  so that\n",
    "   \\begin{align} \\label{Eq:acoeff} \\tag{2}\n",
    "    & a_{00} = v_{11} u_{11} b_1 +\n",
    "    v_{12} u_{12} b_2 \n",
    "    \\\\\n",
    "    & a_{10} = u_{11} v_{21} b_1 +\n",
    "    v_{22} u_{12} b_2 \n",
    "    \\\\\n",
    "    &  a_{01} = v_{11} u_{21} b_1 +\n",
    "    v_{12} u_{22} b_2 \n",
    "    \\\\\n",
    "    &  a_{11} = v_{21} u_{21} b_1 +\n",
    "    v_{22} v_{22} b_2  \n",
    "    \\end{align}\n",
    " \n",
    "\n",
    " The action of the above circuit on the state $|00\\rangle$ can be calculated  as (here upper and lower Qubits in the circuit correspond to subscript indices $0$ and $1$, respectively )\n",
    " \\begin{align} \n",
    " & |\\psi\\rangle    =  V_0 U_1  C_{01} B_0 |00\\rangle=  V_0 U_1   \n",
    " C_{01}  (b_1|0\\rangle + b_2|1\\rangle)_0 |0\\rangle_1= V_0 U_1 \n",
    "       (b_1|00\\rangle + b_2|11\\rangle)= \n",
    " \\\\     \\nonumber\n",
    "  &    b_1 ( v_{11} |0\\rangle + v_{21} |1\\rangle)_0 \n",
    "  ( u_{11} |0\\rangle + u_{21} |1\\rangle)_1    + \n",
    "      b_2 ( v_{12} |0\\rangle + v_{22} |1\\rangle)_0 \n",
    "      ( u_{12} |0\\rangle + u_{22} |1\\rangle)_1=\n",
    " \\\\     \\nonumber\n",
    "&  (b_1 u_{11}v_{11} + b_2 u_{12}v_{12} )|00\\rangle + \n",
    " (b_1v_{11} u_{21} + b_2 v_{12}u_{22}) |01\\rangle +\n",
    " (b_1v_{21} u_{11} + b_2 v_{22}u_{12}) |10\\rangle +\n",
    "  (b_1u_{21} v_{21} + b_2 u_{22}v_{22}) |11\\rangle \n",
    " \\end{align}\n",
    "Comparing this equation with the general form \\eqref{Eq:psi} we see that the coefficients  are indeed coincide with that of the matrix $A$\n",
    "\\eqref{Eq:acoeff}.  \n",
    " \n",
    "  \n",
    "  \n",
    "  \n",
    "  In general the two-Qubit state \\eqref{Eq:Gen2Qubit} \n",
    "  as $\\psi = V_0 U_1  C_{01} B_0$ where  $A= \\left( \\begin{smallmatrix}\n",
    "   a_{00} & a_{10} \n",
    "      \\\\ a_{01}  & a_{11} \n",
    "           \\end{smallmatrix}\n",
    "            \\right) = U B V^T$.  \n",
    "  \n",
    "            \n",
    "From this general rule we get \n",
    "\n",
    "(a) $\\Phi^+ =  C_{01}H_0 |00\\rangle$,  \n",
    "\n",
    "(b) $\\Psi^+ =  X_0 C_{01} H_0 |00\\rangle $, \n",
    "\n",
    "(c) $\\Phi =   U3_1 (\\theta)Z_1U3_0 (\\theta) C_{01} U3_0 (\\theta_B)  |00\\rangle$, \n",
    "\n",
    "where $\\theta =2arccos( 0.9732)   $, $\\theta_B  =2 arccos(0.9342)  $.   \n",
    "\n",
    "Let us check the state (c) using qiskit. \n",
    "\n",
    "\n",
    "\n"
   ]
  },
  {
   "cell_type": "markdown",
   "metadata": {},
   "source": [
    "First, caclulate the matrices $U$, $V^T$ and $B$ using singular value decomposition for state (C)"
   ]
  },
  {
   "cell_type": "code",
   "execution_count": 92,
   "metadata": {},
   "outputs": [
    {
     "name": "stdout",
     "output_type": "stream",
     "text": [
      "U= [[-0.97324899 -0.22975292]\n",
      " [-0.22975292  0.97324899]] \n",
      "\n",
      "B= [0.93417236 0.35682209] \n",
      "\n",
      "VT= [[-0.97324899 -0.22975292]\n",
      " [ 0.22975292 -0.97324899]] \n",
      "\n"
     ]
    }
   ],
   "source": [
    "from numpy import array\n",
    "from scipy.linalg import svd\n",
    "# define a matrix\n",
    "A = array([[3/np.sqrt(12), 1/np.sqrt(12)], [1/np.sqrt(12), -1/np.sqrt(12)]])\n",
    "#print(A);\n",
    "# SVD\n",
    "U, B, VT = svd(A);\n",
    "print(\"U=\", U, \"\\n\")\n",
    "\n",
    "print(\"B=\",B ,\"\\n\")\n",
    "\n",
    "print(\"VT=\", VT, \"\\n\")\n"
   ]
  },
  {
   "cell_type": "markdown",
   "metadata": {},
   "source": [
    "Matrices $U$ and $V$ are unitary, they can be presented as $U_3(\\theta)Z$ and $U_3(\\theta)$. Matrix $B$ is non-unitary, but its action on the state $|0\\rangle$ is the same as of the gate $U_3(\\theta_B)$."
   ]
  },
  {
   "cell_type": "code",
   "execution_count": 114,
   "metadata": {},
   "outputs": [],
   "source": [
    "\n",
    "theta=2*np.arccos( 0.9732)  ;\n",
    "thetaB  = 2*np.arccos(0.9342);\n"
   ]
  },
  {
   "cell_type": "code",
   "execution_count": 112,
   "metadata": {},
   "outputs": [
    {
     "data": {
      "image/png": "[encoded data removed]",
      "text/plain": [
       "<Figure size 622.232x204.68 with 1 Axes>"
      ]
     },
     "execution_count": 112,
     "metadata": {},
     "output_type": "execute_result"
    }
   ],
   "source": [
    "circuit1 = QuantumCircuit(2, 2)\n",
    "circuit1.u3(thetaB, 0, 0, 0)\n",
    "circuit1.cx(0, 1)\n",
    "circuit1.z(1)\n",
    "circuit1.u3(theta, 0, 0, 0)\n",
    "circuit1.u3(theta, 0, 0, 1)\n",
    "circuit1.measure(range(2),range(2))\n",
    "circuit1.draw(output='mpl')\n"
   ]
  },
  {
   "cell_type": "markdown",
   "metadata": {},
   "source": [
    "Let's check that the above circuit yield the state (C). "
   ]
  },
  {
   "cell_type": "code",
   "execution_count": 113,
   "metadata": {},
   "outputs": [
    {
     "data": {
      "image/png": "[encoded data removed]",
      "text/plain": [
       "<Figure size 504x360 with 1 Axes>"
      ]
     },
     "execution_count": 113,
     "metadata": {},
     "output_type": "execute_result"
    }
   ],
   "source": [
    "backend=Aer.get_backend('qasm_simulator')\n",
    "jobIBM=qk.execute(circuit1,backend=backend,shots=1024)\n",
    "resultZSim=jobIBM.result()\n",
    "plot_histogram([resultZSim.get_counts(circuit1)])"
   ]
  },
  {
   "cell_type": "markdown",
   "metadata": {},
   "source": [
    "<b> Problem 4 : Measuring gate </b>\n",
    "\n",
    "Let us consider the general state of $n$ Qbits $|\\Psi\\rangle_n$ which can be written in the form \n",
    " \\begin{equation} \\label{Eq:P6} \\tag{2}\n",
    "  |\\Psi\\rangle_{n} = \\sum_x \\alpha_x |x\\rangle_m \n",
    "  |\\Phi_x\\rangle_{n-m}\n",
    " \\end{equation}\n",
    " %\n",
    "According to the Born rule if we measure $m<n$ Qbits then with probability $|\\alpha_x|^2$ the result will be $|x\\rangle$ and after this measurement \n",
    "the $n$ Qbits will be in the sate \n",
    " \\begin{equation} \\nonumber\n",
    "   |x\\rangle_m |\\Phi_x\\rangle_{n-m}\n",
    " \\end{equation}\n",
    "\n",
    "(a) Suppose that first $m$ Qbits are measured and immediately after additional $k$  Qbits are measured,  so that $m+k\\leq n$. Find the possible states after \n",
    "these two measurements and their associated probabilities by applying first $m$ measurements and then $k$ measurements. \n",
    "\n",
    "(b) Show that the result obtained in (a) coincides with that of the single measurement of $m+k$ Qbits. \n",
    "\n",
    "Hint: use the relation between joint $p(xy)$ and conditional $p(y|x)$ probabilities \n",
    "for two outcomes $x$ and $y$:\n",
    "   \\begin{equation} \\label{Eq:P6-1} \\tag{3}\n",
    "   p(xy)= p(y|x)p(x)\n",
    " \\end{equation}   \n",
    "   \n",
    "   \n",
    "   <b> Solution </b> \n",
    "   The state \\eqref{Eq:P6} in general can be written as \n",
    "   \\begin{align}\n",
    "  |\\Psi\\rangle_{n} = \\sum_{x,y,z} \\alpha_{xyz} |x\\rangle_m \n",
    "  |y\\rangle_{k} |z\\rangle_{n-m-k}  =\n",
    "   \\sum_x \\alpha_x |x\\rangle_m \n",
    "  \\sum_{y,z}\\frac{\\alpha_{xyz}}{\\alpha_x}\n",
    "  |  y\\rangle_{k}  |z\\rangle_{n-m-k} \n",
    "   \\end{align}\n",
    "   where $\\alpha_x= \\sqrt{\\sum_{y,z} |\\alpha_{xyz}|^2} $.\n",
    "  The first measurement yields\n",
    "  state $|x\\rangle_m \n",
    "  (\\sum_{y,z} \\frac{\\alpha_{xyz}}{\\alpha_x} \n",
    "  |  y\\rangle_{k}  |z\\rangle_{n-m-k}  $   \n",
    "  with probability $p(x) = |\\alpha_x|^2 / \\sum_{x} \n",
    "  |\\alpha_{x}|^2$. \n",
    " The subsequent measurement yields the state   \n",
    " $|x\\rangle_m (\\sum_{z} \\frac{\\alpha_{xyz}}{\\alpha_{xy}} \n",
    "  |  y\\rangle_{k}  |z\\rangle_{n-m-k}  $\n",
    " with probability $ p (y|x) = |\\alpha_{xy}|^2 /\\sqrt{\\sum_{y,x} |\\alpha_{xy}|^2} $ where $\\alpha_{xy} = \\sqrt{\\sum_z|\\alpha_{xyz}|^2}$.\n",
    " The single measurement of $k+m$ qubits yields this state with probability \n",
    " $p(xy)= \\sum_z |\\alpha_{xyz}|^2/\\sum_{x,y,z} \n",
    "  |\\alpha_{xyz}|^2 $. \n",
    "  Since $\n",
    "  |\\alpha_{x}|^2= \\sum_{y,z} \n",
    "  |\\alpha_{xyz}|^2$\n",
    " It's easy to see that the above probabilities satisfy Eq.\\eqref{Eq:P6-1}. \n"
   ]
  },
  {
   "cell_type": "code",
   "execution_count": null,
   "metadata": {},
   "outputs": [],
   "source": []
  }
 ],
 "metadata": {
  "kernelspec": {
   "display_name": "Python 3",
   "language": "python",
   "name": "python3"
  },
  "language_info": {
   "codemirror_mode": {
    "name": "ipython",
    "version": 3
   },
   "file_extension": ".py",
   "mimetype": "text/x-python",
   "name": "python",
   "nbconvert_exporter": "python",
   "pygments_lexer": "ipython3",
   "version": "3.8.3"
  }
 },
 "nbformat": 4,
 "nbformat_minor": 4
}
